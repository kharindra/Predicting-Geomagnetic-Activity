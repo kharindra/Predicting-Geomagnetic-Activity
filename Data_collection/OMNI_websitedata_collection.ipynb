{
 "cells": [
  {
   "cell_type": "markdown",
   "metadata": {},
   "source": [
    "****First Allow remote automation first in safari/chrome or in your browser   click ..Develop/Allow Remote Automation"
   ]
  },
  {
   "cell_type": "markdown",
   "metadata": {},
   "source": [
    "# Load the python libraries"
   ]
  },
  {
   "cell_type": "code",
   "execution_count": 31,
   "metadata": {},
   "outputs": [],
   "source": [
    "from selenium import webdriver\n",
    "from selenium.webdriver.support.ui import WebDriverWait\n",
    "from selenium.webdriver.common.by import By\n",
    "from selenium.webdriver.support import expected_conditions as EC"
   ]
  },
  {
   "cell_type": "markdown",
   "metadata": {},
   "source": [
    "# Enter CR start time and end time"
   ]
  },
  {
   "cell_type": "code",
   "execution_count": 32,
   "metadata": {},
   "outputs": [],
   "source": [
    "Start_Time = \"2023/01/01 00:00:00.000\"      # Makesure to enter the correct time format eg: 2004/09/07 12:30:00.000\n",
    "End_Time   = \"2023/10/27 00:00:00.000\""
   ]
  },
  {
   "cell_type": "markdown",
   "metadata": {},
   "source": [
    "# Excecute the code for 'https://cdaweb.gsfc.nasa.gov/index.html/'¶"
   ]
  },
  {
   "cell_type": "code",
   "execution_count": 33,
   "metadata": {},
   "outputs": [],
   "source": [
    "driver = webdriver.Safari()                                          # for safari users\n",
    "driver.get('https://cdaweb.gsfc.nasa.gov/index.html/')               # Omni website"
   ]
  },
  {
   "cell_type": "markdown",
   "metadata": {},
   "source": [
    "# Coordinated Data Analysis Web (CDAWeb)"
   ]
  },
  {
   "cell_type": "code",
   "execution_count": 34,
   "metadata": {},
   "outputs": [
    {
     "name": "stdout",
     "output_type": "stream",
     "text": [
      "Select_zero_OR_more_Sources =  ['ACE']\n"
     ]
    }
   ],
   "source": [
    "Select_zero_OR_more_Sources  =  [\n",
    "                                 'ACE',\n",
    "                                 #'AMPTE',\n",
    "                                 #'ARTEMIS',\n",
    "                                 #'Alouette',\n",
    "                                 #'Apollo',\n",
    "                                 #'Arase (ERG)',\n",
    "                                 #'BepiColumbo',\n",
    "                                 #'CNOFS',\n",
    "                                 #'CRRES',\n",
    "                                 #'Cassini',\n",
    "                                 #'Cluster',\n",
    "                                 #'DE',\n",
    "                                 #'DMSP',\n",
    "                                 #'DSCOVR',\n",
    "                                 #'Dawn',\n",
    "                                 #'ELFIN',\n",
    "                                 #'Equator-S',\n",
    "                                 #'FAST',\n",
    "                                 #'Formosat',\n",
    "                                 #'GOES',\n",
    "                                 #'GOLD',\n",
    "                                 #'GPS',\n",
    "                                 #'Galileo',\n",
    "                                 #'Genesis',\n",
    "                                 #'Geotail',\n",
    "                                 #'Giotto',\n",
    "                                 #'Hawkeye',\n",
    "                                 #'Helios',\n",
    "                                 #'IBEX',\n",
    "                                 #'IMAGE',\n",
    "                                 #'IMP (All)',\n",
    "                                 #'ISEE',\n",
    "                                 #'ISIS',\n",
    "                                 #'ISS',\n",
    "                                 #'Interball',\n",
    "                                 #'Juno',\n",
    "                                 #'LANL',\n",
    "                                 #'MAVEN',\n",
    "                                 #'MESSENGER',\n",
    "                                 #'MMS',\n",
    "                                 #'MSL',\n",
    "                                 #'Mariner',\n",
    "                                 #'Munin',\n",
    "                                 #'NOAA',\n",
    "                                 #'New Horizons',\n",
    "                                 #'PMC Turbo',\n",
    "                                 #'POES/MetOp',\n",
    "                                 #'PSP',\n",
    "                                 #'Phobos',\n",
    "                                 #'Pioneer',\n",
    "                                 #'Polar',\n",
    "                                 #'Rosetta',\n",
    "                                 #'SAMPEX',\n",
    "                                 #'SNOE',\n",
    "                                 #'SOHO',\n",
    "                                 #'ST5',\n",
    "                                 #'STEREO',\n",
    "                                 #'Sakigake',\n",
    "                                 #'Solar Orbiter',\n",
    "                                 #'Suisei',\n",
    "                                 #'THEMIS',\n",
    "                                 #'TIMED',\n",
    "                                 #'TSS-1R',\n",
    "                                 #'TWINS',\n",
    "                                 #'Ulysses',\n",
    "                                 #'Van Allen Probes (RBSP)',\n",
    "                                 #'Voyager',\n",
    "                                 #'Wind',\n",
    "                                 #'Cubesats',\n",
    "                                 #'Ground-Based Investigations',\n",
    "                                 #'OMNI (Combined 1AU IP Data; Magnetic and Solar Indices)',\n",
    "                                 #'Planetary Objects',\n",
    "                                 #'Sounding Rockets'\n",
    "                                                    ]\n",
    "print(\"Select_zero_OR_more_Sources = \" ,Select_zero_OR_more_Sources)"
   ]
  },
  {
   "cell_type": "code",
   "execution_count": 35,
   "metadata": {},
   "outputs": [],
   "source": [
    "######Only work in 'https://cdaweb.gsfc.nasa.gov/index.html/' site \n",
    "element = WebDriverWait(driver, 20).until(EC.presence_of_element_located((By.ID, \"ACE\")))###  edit\n",
    "driver.execute_script(\"arguments[0].click();\", element)\n",
    "\n",
    "element1 = WebDriverWait(driver, 20).until(EC.element_to_be_clickable((By.CSS_SELECTOR, \"input[value='Submit']\")))\n",
    "driver.execute_script(\"arguments[0].click();\", element1)\n",
    "\n",
    "############################################################################"
   ]
  },
  {
   "cell_type": "code",
   "execution_count": 36,
   "metadata": {},
   "outputs": [
    {
     "name": "stdout",
     "output_type": "stream",
     "text": [
      "CDAWeb_Data = ['OMNI2_H0_MRG1HR']\n"
     ]
    }
   ],
   "source": [
    "CDAWeb_Data =           [\n",
    "                         #'AC_OR_SSC',\n",
    "                         #'AC_OR_DEF',\n",
    "                         #'AC_AT_DEF',\n",
    "                         #'AC_H2_CRIS',\n",
    "                         #'AC_H3_CRIS',\n",
    "                         #'AC_H0_MFI',\n",
    "                         #'AC_K0_MFI',\n",
    "                         #'AC_H1_MFI',\n",
    "                         #'AC_K1_MFI',\n",
    "                         #'AC_H2_MFI',\n",
    "                         #'AC_H3_MFI',\n",
    "                         #'AC_K2_MFI',\n",
    "                         #'AC_H2_SEP',\n",
    "                         #'AC_H0_SWE',\n",
    "                         #'AC_K0_SWE',\n",
    "                         #'AC_H2_SWE',\n",
    "                         #'AC_K1_SWE',\n",
    "                         #'AC_H2_SWI',\n",
    "                         #'AC_H3_SWI',\n",
    "                         #'AC_H3_SW2',\n",
    "                         #'AC_H4_SWI',\n",
    "                         #'AC_H5_SWI',\n",
    "                         #'AC_H6_SWI',\n",
    "                         #'AC_H1_EPM',\n",
    "                         #'AC_H2_EPM',\n",
    "                         #'AC_H3_EPM',\n",
    "                         #'AC_K0_EPM',\n",
    "                         #'AC_K1_EPM',\n",
    "                         #'AC_K0_SIS',\n",
    "                         #'AC_H1_SIS',\n",
    "                         #'AC_H2_SIS',\n",
    "                         #'AC_H2_ULE',\n",
    "                         #'OMNI_HRO_1MIN',\n",
    "                         #'OMNI_HRO_5MIN',\n",
    "                         #'OMNI_HRO2_1MIN',\n",
    "                         #'OMNI_HRO2_5MIN',\n",
    "                         'OMNI2_H0_MRG1HR',\n",
    "                         #'OMNI_COHO1HR_MERGED_MAG_PLASMA',\n",
    "                         #'AC_K0_GIFWALK'\n",
    "                                          ]      \n",
    "print(\"CDAWeb_Data =\",CDAWeb_Data)  #OMNI2_H0_MRG1HR"
   ]
  },
  {
   "cell_type": "code",
   "execution_count": 37,
   "metadata": {},
   "outputs": [],
   "source": [
    "#############################################################################\n",
    "# element2 = WebDriverWait(driver, 20).until(EC.element_to_be_clickable((By.XPATH, '//*[@id=\"paper\"]/form/b/blockquote/a[1]')))\n",
    "# driver.execute_script(\"arguments[0].click();\", element2)\n",
    "\n",
    "element3 = WebDriverWait(driver, 20).until(EC.presence_of_element_located((By.ID, \"OMNI2_H0_MRG1HR\"))) ### edit\n",
    "driver.execute_script(\"arguments[0].click();\", element3)\n",
    "\n",
    "element4 = WebDriverWait(driver, 20).until(EC.element_to_be_clickable((By.CSS_SELECTOR, \"input[value='Submit']\")))\n",
    "driver.execute_script(\"arguments[0].click();\", element4)\n",
    "\n",
    "##############################################################################"
   ]
  },
  {
   "cell_type": "code",
   "execution_count": 38,
   "metadata": {},
   "outputs": [
    {
     "name": "stdout",
     "output_type": "stream",
     "text": [
      "Solar_wind_parameters = ['1AU_IP_Average_B_Field_Magnitude(nT)', '1AU_IP_Plasma_Temperature(deg_K)', '1AU_IP_Ion_number_density(per cc)', '1AU_IP_plasma_flow_speed(km/s)']\n"
     ]
    }
   ],
   "source": [
    "Solar_wind_parameters=  [\n",
    "                         '1AU_IP_Average_B_Field_Magnitude(nT)',\n",
    "                         '1AU_IP_Plasma_Temperature(deg_K)',\n",
    "                         '1AU_IP_Ion_number_density(per cc)',\n",
    "                         '1AU_IP_plasma_flow_speed(km/s)',\n",
    "                                ]\n",
    "\n",
    "print(\"Solar_wind_parameters =\",Solar_wind_parameters)"
   ]
  },
  {
   "cell_type": "code",
   "execution_count": 39,
   "metadata": {},
   "outputs": [],
   "source": [
    "element5 = WebDriverWait(driver, 20).until(EC.presence_of_element_located((By.ID, \"ABS_B1800\")))\n",
    "driver.execute_script(\"arguments[0].click();\", element5)\n",
    "\n",
    "element6 = WebDriverWait(driver, 20).until(EC.presence_of_element_located((By.ID, \"T1800\")))\n",
    "driver.execute_script(\"arguments[0].click();\", element6)\n",
    "\n",
    "element7 = WebDriverWait(driver, 20).until(EC.presence_of_element_located((By.ID, \"N1800\")))\n",
    "driver.execute_script(\"arguments[0].click();\", element7)\n",
    "\n",
    "element8 = WebDriverWait(driver, 20).until(EC.presence_of_element_located((By.ID, \"V1800\")))\n",
    "driver.execute_script(\"arguments[0].click();\", element8)\n",
    "\n",
    "element9 = WebDriverWait(driver, 20).until(EC.presence_of_element_located((By.ID, \"list\")))\n",
    "driver.execute_script(\"arguments[0].click();\", element9)\n",
    "\n",
    "element10 = WebDriverWait(driver, 20).until(EC.presence_of_element_located((By.ID, \"csvOptions\")))\n",
    "driver.execute_script(\"arguments[0].click();\", element10)\n",
    "\n",
    "element11 = WebDriverWait(driver, 20).until(EC.presence_of_element_located((By.ID, \"csv2\")))\n",
    "driver.execute_script(\"arguments[0].click();\", element11)\n",
    "\n",
    "#######\n",
    "start_time = WebDriverWait(driver, 20).until(EC.element_to_be_clickable((By.CSS_SELECTOR, \"input[name='start']\")))\n",
    "start_time.click()\n",
    "start_time.clear()\n",
    "start_time.send_keys(Start_Time)\n",
    "#######\n",
    "stop_time = WebDriverWait(driver, 20).until(EC.element_to_be_clickable((By.CSS_SELECTOR, \"input[name='stop']\")))\n",
    "stop_time.click()\n",
    "stop_time.clear()\n",
    "stop_time.send_keys(End_Time)\n",
    "#######\n",
    "\n",
    "element12 = WebDriverWait(driver, 20).until(EC.element_to_be_clickable((By.CSS_SELECTOR, \"input[value='Submit']\")))\n",
    "driver.execute_script(\"arguments[0].click();\", element12)"
   ]
  },
  {
   "cell_type": "markdown",
   "metadata": {},
   "source": [
    "# Stop session and download data maually"
   ]
  },
  {
   "cell_type": "code",
   "execution_count": 40,
   "metadata": {},
   "outputs": [
    {
     "name": "stdout",
     "output_type": "stream",
     "text": [
      "Downloading_options = ['OMNI2_H0_MRG1HR_6395.csv', 'gzip listing', 'OMNI2_H0_MRG1HR_6395.json', 'gzip listing', 'Combined Listing (tar/gzip, all times and all datasets selected']\n"
     ]
    }
   ],
   "source": [
    "Downloading_options =  [ \n",
    "                        'OMNI2_H0_MRG1HR_6395.csv' ,\n",
    "                        'gzip listing',\n",
    "                        'OMNI2_H0_MRG1HR_6395.json', \n",
    "                        'gzip listing', \n",
    "                        'Combined Listing (tar/gzip, all times and all datasets selected', \n",
    "                                    ]\n",
    "print(\"Downloading_options =\",Downloading_options)"
   ]
  },
  {
   "cell_type": "markdown",
   "metadata": {},
   "source": [
    "# END........................................................."
   ]
  },
  {
   "cell_type": "code",
   "execution_count": null,
   "metadata": {},
   "outputs": [],
   "source": []
  },
  {
   "cell_type": "code",
   "execution_count": null,
   "metadata": {},
   "outputs": [],
   "source": []
  },
  {
   "cell_type": "code",
   "execution_count": null,
   "metadata": {},
   "outputs": [],
   "source": []
  },
  {
   "cell_type": "code",
   "execution_count": null,
   "metadata": {},
   "outputs": [],
   "source": []
  },
  {
   "cell_type": "code",
   "execution_count": null,
   "metadata": {},
   "outputs": [],
   "source": []
  },
  {
   "cell_type": "code",
   "execution_count": null,
   "metadata": {},
   "outputs": [],
   "source": []
  },
  {
   "cell_type": "code",
   "execution_count": null,
   "metadata": {},
   "outputs": [],
   "source": []
  },
  {
   "cell_type": "code",
   "execution_count": null,
   "metadata": {},
   "outputs": [],
   "source": []
  }
 ],
 "metadata": {
  "kernelspec": {
   "display_name": "Python 3 (ipykernel)",
   "language": "python",
   "name": "python3"
  },
  "language_info": {
   "codemirror_mode": {
    "name": "ipython",
    "version": 3
   },
   "file_extension": ".py",
   "mimetype": "text/x-python",
   "name": "python",
   "nbconvert_exporter": "python",
   "pygments_lexer": "ipython3",
   "version": "3.9.17"
  }
 },
 "nbformat": 4,
 "nbformat_minor": 4
}
