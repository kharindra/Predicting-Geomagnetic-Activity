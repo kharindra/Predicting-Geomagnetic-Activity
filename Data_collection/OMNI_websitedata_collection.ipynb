{
 "cells": [
  {
   "cell_type": "markdown",
   "metadata": {},
   "source": [
    "****First Allow remote automation first in safari/chrome or in your browser   click ..Develop/Allow Remote Automation"
   ]
  },
  {
   "cell_type": "markdown",
   "metadata": {},
   "source": [
    "# Load the python libraries"
   ]
  },
  {
   "cell_type": "code",
   "execution_count": 1,
   "metadata": {},
   "outputs": [],
   "source": [
    "from selenium import webdriver\n",
    "from selenium.webdriver.support.ui import WebDriverWait\n",
    "from selenium.webdriver.common.by import By\n",
    "from selenium.webdriver.support import expected_conditions as EC"
   ]
  },
  {
   "cell_type": "markdown",
   "metadata": {},
   "source": [
    "# Enter CR start time and end time"
   ]
  },
  {
   "cell_type": "code",
   "execution_count": 2,
   "metadata": {},
   "outputs": [],
   "source": [
    "Start_Time = \"2000/01/01 00:00:00.000\"      #makesure to enter the correct time format eg: 2004/09/07 12:30:00.000\n",
    "End_Time   = \"2002/01/01 00:00:00.000\""
   ]
  },
  {
   "cell_type": "markdown",
   "metadata": {},
   "source": [
    "# Excecute the code for 'https://cdaweb.gsfc.nasa.gov/index.html/'¶"
   ]
  },
  {
   "cell_type": "code",
   "execution_count": 3,
   "metadata": {},
   "outputs": [],
   "source": [
    "driver = webdriver.Safari()                                          # for safari users\n",
    "driver.get('https://cdaweb.gsfc.nasa.gov/index.html/')               # Omni website"
   ]
  },
  {
   "cell_type": "markdown",
   "metadata": {},
   "source": [
    "# Coordinated Data Analysis Web (CDAWeb)"
   ]
  },
  {
   "cell_type": "code",
   "execution_count": 4,
   "metadata": {},
   "outputs": [
    {
     "name": "stdout",
     "output_type": "stream",
     "text": [
      "Select_zero_OR_more_Sources =  ['ACE']\n"
     ]
    }
   ],
   "source": [
    "Select_zero_OR_more_Sources  =  [\n",
    "                                 'ACE',\n",
    "                                 #'AMPTE',\n",
    "                                 #'ARTEMIS',\n",
    "                                 #'Alouette',\n",
    "                                 #'Apollo',\n",
    "                                 #'Arase (ERG)',\n",
    "                                 #'BepiColumbo',\n",
    "                                 #'CNOFS',\n",
    "                                 #'CRRES',\n",
    "                                 #'Cassini',\n",
    "                                 #'Cluster',\n",
    "                                 #'DE',\n",
    "                                 #'DMSP',\n",
    "                                 #'DSCOVR',\n",
    "                                 #'Dawn',\n",
    "                                 #'ELFIN',\n",
    "                                 #'Equator-S',\n",
    "                                 #'FAST',\n",
    "                                 #'Formosat',\n",
    "                                 #'GOES',\n",
    "                                 #'GOLD',\n",
    "                                 #'GPS',\n",
    "                                 #'Galileo',\n",
    "                                 #'Genesis',\n",
    "                                 #'Geotail',\n",
    "                                 #'Giotto',\n",
    "                                 #'Hawkeye',\n",
    "                                 #'Helios',\n",
    "                                 #'IBEX',\n",
    "                                 #'IMAGE',\n",
    "                                 #'IMP (All)',\n",
    "                                 #'ISEE',\n",
    "                                 #'ISIS',\n",
    "                                 #'ISS',\n",
    "                                 #'Interball',\n",
    "                                 #'Juno',\n",
    "                                 #'LANL',\n",
    "                                 #'MAVEN',\n",
    "                                 #'MESSENGER',\n",
    "                                 #'MMS',\n",
    "                                 #'MSL',\n",
    "                                 #'Mariner',\n",
    "                                 #'Munin',\n",
    "                                 #'NOAA',\n",
    "                                 #'New Horizons',\n",
    "                                 #'PMC Turbo',\n",
    "                                 #'POES/MetOp',\n",
    "                                 #'PSP',\n",
    "                                 #'Phobos',\n",
    "                                 #'Pioneer',\n",
    "                                 #'Polar',\n",
    "                                 #'Rosetta',\n",
    "                                 #'SAMPEX',\n",
    "                                 #'SNOE',\n",
    "                                 #'SOHO',\n",
    "                                 #'ST5',\n",
    "                                 #'STEREO',\n",
    "                                 #'Sakigake',\n",
    "                                 #'Solar Orbiter',\n",
    "                                 #'Suisei',\n",
    "                                 #'THEMIS',\n",
    "                                 #'TIMED',\n",
    "                                 #'TSS-1R',\n",
    "                                 #'TWINS',\n",
    "                                 #'Ulysses',\n",
    "                                 #'Van Allen Probes (RBSP)',\n",
    "                                 #'Voyager',\n",
    "                                 #'Wind',\n",
    "                                 #'Cubesats',\n",
    "                                 #'Ground-Based Investigations',\n",
    "                                 #'OMNI (Combined 1AU IP Data; Magnetic and Solar Indices)',\n",
    "                                 #'Planetary Objects',\n",
    "                                 #'Sounding Rockets'\n",
    "                                                    ]\n",
    "print(\"Select_zero_OR_more_Sources = \" ,Select_zero_OR_more_Sources)"
   ]
  },
  {
   "cell_type": "code",
   "execution_count": 5,
   "metadata": {},
   "outputs": [],
   "source": [
    "######Only work in 'https://cdaweb.gsfc.nasa.gov/index.html/' site \n",
    "element = WebDriverWait(driver, 20).until(EC.presence_of_element_located((By.ID, \"ACE\")))###  edit\n",
    "driver.execute_script(\"arguments[0].click();\", element)\n",
    "\n",
    "element1 = WebDriverWait(driver, 20).until(EC.element_to_be_clickable((By.CSS_SELECTOR, \"input[value='Submit']\")))\n",
    "driver.execute_script(\"arguments[0].click();\", element1)\n",
    "\n",
    "############################################################################"
   ]
  },
  {
   "cell_type": "code",
   "execution_count": 6,
   "metadata": {},
   "outputs": [
    {
     "name": "stdout",
     "output_type": "stream",
     "text": [
      "CDAWeb_Data = ['OMNI2_H0_MRG1HR']\n"
     ]
    }
   ],
   "source": [
    "CDAWeb_Data =           [\n",
    "                         #'AC_OR_SSC',\n",
    "                         #'AC_OR_DEF',\n",
    "                         #'AC_AT_DEF',\n",
    "                         #'AC_H2_CRIS',\n",
    "                         #'AC_H3_CRIS',\n",
    "                         #'AC_H0_MFI',\n",
    "                         #'AC_K0_MFI',\n",
    "                         #'AC_H1_MFI',\n",
    "                         #'AC_K1_MFI',\n",
    "                         #'AC_H2_MFI',\n",
    "                         #'AC_H3_MFI',\n",
    "                         #'AC_K2_MFI',\n",
    "                         #'AC_H2_SEP',\n",
    "                         #'AC_H0_SWE',\n",
    "                         #'AC_K0_SWE',\n",
    "                         #'AC_H2_SWE',\n",
    "                         #'AC_K1_SWE',\n",
    "                         #'AC_H2_SWI',\n",
    "                         #'AC_H3_SWI',\n",
    "                         #'AC_H3_SW2',\n",
    "                         #'AC_H4_SWI',\n",
    "                         #'AC_H5_SWI',\n",
    "                         #'AC_H6_SWI',\n",
    "                         #'AC_H1_EPM',\n",
    "                         #'AC_H2_EPM',\n",
    "                         #'AC_H3_EPM',\n",
    "                         #'AC_K0_EPM',\n",
    "                         #'AC_K1_EPM',\n",
    "                         #'AC_K0_SIS',\n",
    "                         #'AC_H1_SIS',\n",
    "                         #'AC_H2_SIS',\n",
    "                         #'AC_H2_ULE',\n",
    "                         #'OMNI_HRO_1MIN',\n",
    "                         #'OMNI_HRO_5MIN',\n",
    "                         #'OMNI_HRO2_1MIN',\n",
    "                         #'OMNI_HRO2_5MIN',\n",
    "                         'OMNI2_H0_MRG1HR',\n",
    "                         #'OMNI_COHO1HR_MERGED_MAG_PLASMA',\n",
    "                         #'AC_K0_GIFWALK'\n",
    "                                          ]      \n",
    "print(\"CDAWeb_Data =\",CDAWeb_Data)  #OMNI2_H0_MRG1HR"
   ]
  },
  {
   "cell_type": "code",
   "execution_count": 7,
   "metadata": {},
   "outputs": [],
   "source": [
    "#############################################################################\n",
    "# element2 = WebDriverWait(driver, 20).until(EC.element_to_be_clickable((By.XPATH, '//*[@id=\"paper\"]/form/b/blockquote/a[1]')))\n",
    "# driver.execute_script(\"arguments[0].click();\", element2)\n",
    "\n",
    "element3 = WebDriverWait(driver, 20).until(EC.presence_of_element_located((By.ID, \"OMNI2_H0_MRG1HR\"))) ### edit\n",
    "driver.execute_script(\"arguments[0].click();\", element3)\n",
    "\n",
    "element4 = WebDriverWait(driver, 20).until(EC.element_to_be_clickable((By.CSS_SELECTOR, \"input[value='Submit']\")))\n",
    "driver.execute_script(\"arguments[0].click();\", element4)\n",
    "\n",
    "##############################################################################"
   ]
  },
  {
   "cell_type": "code",
   "execution_count": 8,
   "metadata": {},
   "outputs": [
    {
     "name": "stdout",
     "output_type": "stream",
     "text": [
      "Solar_wind_parameters = ['1AU_IP_Average_B_Field_Magnitude(nT)', '1AU_IP_Plasma_Temperature(deg_K)', '1AU_IP_Ion_number_density(per cc)', '1AU_IP_plasma_flow_speed(km/s)']\n"
     ]
    }
   ],
   "source": [
    "Solar_wind_parameters=  [\n",
    "                         '1AU_IP_Average_B_Field_Magnitude(nT)',\n",
    "                         '1AU_IP_Plasma_Temperature(deg_K)',\n",
    "                         '1AU_IP_Ion_number_density(per cc)',\n",
    "                         '1AU_IP_plasma_flow_speed(km/s)',\n",
    "                                ]\n",
    "\n",
    "print(\"Solar_wind_parameters =\",Solar_wind_parameters)"
   ]
  },
  {
   "cell_type": "code",
   "execution_count": 9,
   "metadata": {},
   "outputs": [],
   "source": [
    "element5 = WebDriverWait(driver, 20).until(EC.presence_of_element_located((By.ID, \"ABS_B1800\")))\n",
    "driver.execute_script(\"arguments[0].click();\", element5)\n",
    "\n",
    "element6 = WebDriverWait(driver, 20).until(EC.presence_of_element_located((By.ID, \"T1800\")))\n",
    "driver.execute_script(\"arguments[0].click();\", element6)\n",
    "\n",
    "element7 = WebDriverWait(driver, 20).until(EC.presence_of_element_located((By.ID, \"N1800\")))\n",
    "driver.execute_script(\"arguments[0].click();\", element7)\n",
    "\n",
    "element8 = WebDriverWait(driver, 20).until(EC.presence_of_element_located((By.ID, \"V1800\")))\n",
    "driver.execute_script(\"arguments[0].click();\", element8)\n",
    "\n",
    "element9 = WebDriverWait(driver, 20).until(EC.presence_of_element_located((By.ID, \"list\")))\n",
    "driver.execute_script(\"arguments[0].click();\", element9)\n",
    "\n",
    "element10 = WebDriverWait(driver, 20).until(EC.presence_of_element_located((By.ID, \"csvOptions\")))\n",
    "driver.execute_script(\"arguments[0].click();\", element10)\n",
    "\n",
    "element11 = WebDriverWait(driver, 20).until(EC.presence_of_element_located((By.ID, \"csv2\")))\n",
    "driver.execute_script(\"arguments[0].click();\", element11)\n",
    "\n",
    "#######\n",
    "start_time = WebDriverWait(driver, 20).until(EC.element_to_be_clickable((By.CSS_SELECTOR, \"input[name='start']\")))\n",
    "start_time.click()\n",
    "start_time.clear()\n",
    "start_time.send_keys(Start_Time)\n",
    "#######\n",
    "stop_time = WebDriverWait(driver, 20).until(EC.element_to_be_clickable((By.CSS_SELECTOR, \"input[name='stop']\")))\n",
    "stop_time.click()\n",
    "stop_time.clear()\n",
    "stop_time.send_keys(End_Time)\n",
    "#######\n",
    "\n",
    "element12 = WebDriverWait(driver, 20).until(EC.element_to_be_clickable((By.CSS_SELECTOR, \"input[value='Submit']\")))\n",
    "driver.execute_script(\"arguments[0].click();\", element12)"
   ]
  },
  {
   "cell_type": "markdown",
   "metadata": {},
   "source": [
    "# Stop session and download data maually"
   ]
  },
  {
   "cell_type": "code",
   "execution_count": 10,
   "metadata": {},
   "outputs": [
    {
     "name": "stdout",
     "output_type": "stream",
     "text": [
      "Downloading_options = ['OMNI2_H0_MRG1HR_6395.csv', 'gzip listing', 'OMNI2_H0_MRG1HR_6395.json', 'gzip listing', 'Combined Listing (tar/gzip, all times and all datasets selected']\n"
     ]
    }
   ],
   "source": [
    "Downloading_options =  [ \n",
    "                        'OMNI2_H0_MRG1HR_6395.csv' ,\n",
    "                        'gzip listing',\n",
    "                        'OMNI2_H0_MRG1HR_6395.json', \n",
    "                        'gzip listing', \n",
    "                        'Combined Listing (tar/gzip, all times and all datasets selected', \n",
    "                                    ]\n",
    "print(\"Downloading_options =\",Downloading_options)"
   ]
  },
  {
   "cell_type": "markdown",
   "metadata": {},
   "source": [
    "# END........................................................."
   ]
  },
  {
   "cell_type": "code",
   "execution_count": 11,
   "metadata": {},
   "outputs": [],
   "source": [
    "# try:\n",
    "#     # Wait for the \"paper\" element to be present\n",
    "#     paper_element = WebDriverWait(driver, 20).until(EC.presence_of_element_located((By.ID, 'paper')))\n",
    "\n",
    "#     # Locate the 11th paragraph and then the 11th link inside it\n",
    "#     p3 = paper_element.find_elements(By.TAG_NAME, 'p')[3]  # 3rd paragraph, using zero-based indexing\n",
    "#     a = p3.find_elements(By.TAG_NAME, 'a')                 # find the 1st link, using zero-based indexing\n",
    "\n",
    "#     # Click the 11th link\n",
    "#     a.click()\n",
    "# except TimeoutException:\n",
    "#     print(\"The element is not clickable within the specified time or not found.\")\n"
   ]
  },
  {
   "cell_type": "code",
   "execution_count": null,
   "metadata": {},
   "outputs": [],
   "source": []
  },
  {
   "cell_type": "code",
   "execution_count": null,
   "metadata": {},
   "outputs": [],
   "source": []
  },
  {
   "cell_type": "code",
   "execution_count": null,
   "metadata": {},
   "outputs": [],
   "source": []
  },
  {
   "cell_type": "code",
   "execution_count": null,
   "metadata": {},
   "outputs": [],
   "source": []
  },
  {
   "cell_type": "code",
   "execution_count": null,
   "metadata": {},
   "outputs": [],
   "source": []
  },
  {
   "cell_type": "code",
   "execution_count": null,
   "metadata": {},
   "outputs": [],
   "source": []
  },
  {
   "cell_type": "code",
   "execution_count": null,
   "metadata": {},
   "outputs": [],
   "source": []
  },
  {
   "cell_type": "code",
   "execution_count": null,
   "metadata": {},
   "outputs": [],
   "source": []
  },
  {
   "cell_type": "code",
   "execution_count": null,
   "metadata": {},
   "outputs": [],
   "source": []
  },
  {
   "cell_type": "code",
   "execution_count": null,
   "metadata": {},
   "outputs": [],
   "source": []
  },
  {
   "cell_type": "code",
   "execution_count": null,
   "metadata": {},
   "outputs": [],
   "source": []
  },
  {
   "cell_type": "code",
   "execution_count": null,
   "metadata": {},
   "outputs": [],
   "source": []
  },
  {
   "cell_type": "code",
   "execution_count": null,
   "metadata": {},
   "outputs": [],
   "source": []
  },
  {
   "cell_type": "code",
   "execution_count": null,
   "metadata": {},
   "outputs": [],
   "source": []
  },
  {
   "cell_type": "code",
   "execution_count": 11,
   "metadata": {},
   "outputs": [
    {
     "ename": "TimeoutException",
     "evalue": "Message: \n",
     "output_type": "error",
     "traceback": [
      "\u001b[0;31m---------------------------------------------------------------------------\u001b[0m",
      "\u001b[0;31mTimeoutException\u001b[0m                          Traceback (most recent call last)",
      "Cell \u001b[0;32mIn[11], line 2\u001b[0m\n\u001b[1;32m      1\u001b[0m \u001b[38;5;66;03m# Find all links on the page\u001b[39;00m\n\u001b[0;32m----> 2\u001b[0m element13 \u001b[38;5;241m=\u001b[39m \u001b[43mWebDriverWait\u001b[49m\u001b[43m(\u001b[49m\u001b[43mdriver\u001b[49m\u001b[43m,\u001b[49m\u001b[43m \u001b[49m\u001b[38;5;241;43m20\u001b[39;49m\u001b[43m)\u001b[49m\u001b[38;5;241;43m.\u001b[39;49m\u001b[43muntil\u001b[49m\u001b[43m(\u001b[49m\u001b[43mEC\u001b[49m\u001b[38;5;241;43m.\u001b[39;49m\u001b[43melement_to_be_clickable\u001b[49m\u001b[43m(\u001b[49m\u001b[43m(\u001b[49m\u001b[43mBy\u001b[49m\u001b[38;5;241;43m.\u001b[39;49m\u001b[43mCSS_SELECTOR\u001b[49m\u001b[43m,\u001b[49m\u001b[43m \u001b[49m\u001b[38;5;124;43m'\u001b[39;49m\u001b[38;5;124;43mpaper > p:nth-child(11) a\u001b[39;49m\u001b[38;5;124;43m'\u001b[39;49m\u001b[43m)\u001b[49m\u001b[43m)\u001b[49m\u001b[43m)\u001b[49m\n\u001b[1;32m      3\u001b[0m driver\u001b[38;5;241m.\u001b[39mexecute_script(\u001b[38;5;124m\"\u001b[39m\u001b[38;5;124marguments[0].click();\u001b[39m\u001b[38;5;124m\"\u001b[39m, element13)\n\u001b[1;32m      4\u001b[0m \u001b[38;5;66;03m# links = driver.find_elements(By.TAG_NAME, \"a\")\u001b[39;00m\n\u001b[1;32m      5\u001b[0m \n\u001b[1;32m      6\u001b[0m \u001b[38;5;66;03m# # Check if there is at least a second link on the page\u001b[39;00m\n\u001b[0;32m   (...)\u001b[0m\n\u001b[1;32m     10\u001b[0m \u001b[38;5;66;03m# else:\u001b[39;00m\n\u001b[1;32m     11\u001b[0m \u001b[38;5;66;03m#     print(\"There is no second link on the page.\")\u001b[39;00m\n",
      "File \u001b[0;32m/usr/local/Caskroom/miniforge/base/envs/project-env/lib/python3.9/site-packages/selenium/webdriver/support/wait.py:95\u001b[0m, in \u001b[0;36mWebDriverWait.until\u001b[0;34m(self, method, message)\u001b[0m\n\u001b[1;32m     93\u001b[0m     \u001b[38;5;28;01mif\u001b[39;00m time\u001b[38;5;241m.\u001b[39mmonotonic() \u001b[38;5;241m>\u001b[39m end_time:\n\u001b[1;32m     94\u001b[0m         \u001b[38;5;28;01mbreak\u001b[39;00m\n\u001b[0;32m---> 95\u001b[0m \u001b[38;5;28;01mraise\u001b[39;00m TimeoutException(message, screen, stacktrace)\n",
      "\u001b[0;31mTimeoutException\u001b[0m: Message: \n"
     ]
    }
   ],
   "source": [
    "# Find all links on the page\n",
    "element13 = WebDriverWait(driver, 20).until(EC.element_to_be_clickable((By.CSS_SELECTOR, 'paper > p:nth-child(11) a')))\n",
    "driver.execute_script(\"arguments[0].click();\", element13)\n",
    "# links = driver.find_elements(By.TAG_NAME, \"a\")\n",
    "\n",
    "# # Check if there is at least a second link on the page\n",
    "# if len(links) > 1:\n",
    "#     # Click the second link (index 1)\n",
    "#     links[1].click()\n",
    "# else:\n",
    "#     print(\"There is no second link on the page.\")"
   ]
  },
  {
   "cell_type": "code",
   "execution_count": null,
   "metadata": {},
   "outputs": [],
   "source": [
    "#paper > p:nth-child(11)"
   ]
  },
  {
   "cell_type": "code",
   "execution_count": null,
   "metadata": {},
   "outputs": [],
   "source": []
  },
  {
   "cell_type": "code",
   "execution_count": null,
   "metadata": {},
   "outputs": [],
   "source": []
  },
  {
   "cell_type": "code",
   "execution_count": null,
   "metadata": {},
   "outputs": [],
   "source": []
  },
  {
   "cell_type": "code",
   "execution_count": null,
   "metadata": {},
   "outputs": [],
   "source": []
  },
  {
   "cell_type": "code",
   "execution_count": 20,
   "metadata": {},
   "outputs": [
    {
     "ename": "IndexError",
     "evalue": "list index out of range",
     "output_type": "error",
     "traceback": [
      "\u001b[0;31m---------------------------------------------------------------------------\u001b[0m",
      "\u001b[0;31mIndexError\u001b[0m                                Traceback (most recent call last)",
      "Cell \u001b[0;32mIn[20], line 11\u001b[0m\n\u001b[1;32m      8\u001b[0m a11 \u001b[38;5;241m=\u001b[39m p11\u001b[38;5;241m.\u001b[39mfind_elements(By\u001b[38;5;241m.\u001b[39mTAG_NAME, \u001b[38;5;124m'\u001b[39m\u001b[38;5;124ma\u001b[39m\u001b[38;5;124m'\u001b[39m)  \u001b[38;5;66;03m# 11th link, using zero-based indexing\u001b[39;00m\n\u001b[1;32m     10\u001b[0m \u001b[38;5;66;03m# Click the 11th link\u001b[39;00m\n\u001b[0;32m---> 11\u001b[0m \u001b[43ma11\u001b[49m\u001b[43m[\u001b[49m\u001b[38;5;241;43m0\u001b[39;49m\u001b[43m]\u001b[49m\u001b[38;5;241m.\u001b[39mclick()\n\u001b[1;32m     16\u001b[0m \u001b[38;5;66;03m# except TimeoutException:\u001b[39;00m\n\u001b[1;32m     17\u001b[0m \u001b[38;5;66;03m#     print(\"The element is not clickable within the specified time or not found.\")\u001b[39;00m\n\u001b[1;32m     18\u001b[0m \n\u001b[1;32m     19\u001b[0m \u001b[38;5;66;03m# # Close the web driver when you're done\u001b[39;00m\n\u001b[1;32m     20\u001b[0m \u001b[38;5;66;03m# driver.quit()\u001b[39;00m\n",
      "\u001b[0;31mIndexError\u001b[0m: list index out of range"
     ]
    }
   ],
   "source": [
    "# Navigate to the desired web page\n",
    "driver.get(\"https://cdaweb.gsfc.nasa.gov/index.html\")\n",
    "\n",
    "paper_element = WebDriverWait(driver, 20).until(EC.presence_of_element_located((By.ID, 'paper')))\n",
    "\n",
    "# Locate the 11th paragraph and then the 11th link inside it\n",
    "p11 = paper_element.find_elements(By.TAG_NAME, 'p')[0]  # 11th paragraph, using zero-based indexing\n",
    "a11 = p11.find_elements(By.TAG_NAME, 'a')  # 11th link, using zero-based indexing\n",
    "\n",
    "# Click the 11th link\n",
    "a11[0].click()\n",
    "\n",
    "\n",
    "\n",
    "\n",
    "# except TimeoutException:\n",
    "#     print(\"The element is not clickable within the specified time or not found.\")\n",
    "\n",
    "# # Close the web driver when you're done\n",
    "# driver.quit()\n",
    "\n",
    "\n",
    "\n",
    "\n",
    "\n",
    "\n"
   ]
  },
  {
   "cell_type": "code",
   "execution_count": null,
   "metadata": {},
   "outputs": [],
   "source": []
  },
  {
   "cell_type": "code",
   "execution_count": null,
   "metadata": {},
   "outputs": [],
   "source": []
  },
  {
   "cell_type": "code",
   "execution_count": null,
   "metadata": {},
   "outputs": [],
   "source": []
  }
 ],
 "metadata": {
  "kernelspec": {
   "display_name": "Python 3 (ipykernel)",
   "language": "python",
   "name": "python3"
  },
  "language_info": {
   "codemirror_mode": {
    "name": "ipython",
    "version": 3
   },
   "file_extension": ".py",
   "mimetype": "text/x-python",
   "name": "python",
   "nbconvert_exporter": "python",
   "pygments_lexer": "ipython3",
   "version": "3.9.17"
  }
 },
 "nbformat": 4,
 "nbformat_minor": 4
}
