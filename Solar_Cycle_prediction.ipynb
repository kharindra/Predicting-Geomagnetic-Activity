{
 "cells": [
  {
   "cell_type": "markdown",
   "id": "4e5d01aa-e2fc-4430-8165-f622f3327748",
   "metadata": {},
   "source": [
    "#### Import all the python libraries"
   ]
  },
  {
   "cell_type": "code",
   "execution_count": 1,
   "id": "cee05850-7ce6-4c44-8d4e-eff89299f267",
   "metadata": {},
   "outputs": [],
   "source": [
    "import warnings\n",
    "# Set to ignore any warnings\n",
    "warnings.filterwarnings('ignore')"
   ]
  },
  {
   "cell_type": "code",
   "execution_count": 2,
   "id": "8f9899ec-561a-4a6a-8ca4-dd3eb5339460",
   "metadata": {},
   "outputs": [],
   "source": [
    "#import libraries\n",
    "import pandas as pd\n",
    "import numpy as np\n",
    "import matplotlib.pyplot as plt\n",
    "\n",
    "from datetime import datetime\n",
    "from sklearn.model_selection import train_test_split\n",
    "from statsmodels.tsa.arima.model import ARIMA\n",
    "from statsmodels.tsa.stattools import adfuller\n",
    "from statsmodels.graphics.tsaplots import plot_acf, plot_pacf"
   ]
  },
  {
   "cell_type": "markdown",
   "id": "b329d41c-8bfb-4d27-8c65-38c7af8a25d3",
   "metadata": {},
   "source": [
    "#### Read the sunspot data "
   ]
  },
  {
   "cell_type": "code",
   "execution_count": 3,
   "id": "32b5540d-b683-442c-9fc6-e08864bbb9a6",
   "metadata": {},
   "outputs": [],
   "source": [
    "df = pd.read_csv('Data_collection/Data/sunspot.csv', skiprows=None, header=None)\n",
    "sn = df.iloc[:,0:7]"
   ]
  },
  {
   "cell_type": "code",
   "execution_count": 4,
   "id": "19d2964e-a5b2-4eb0-97f2-0a58aaba790e",
   "metadata": {},
   "outputs": [],
   "source": [
    "##Function to convert the time to gregorian date\n",
    "def to_gregorian_date(year,month,day):\n",
    "    Date = []\n",
    "    for i,j,k in zip(year,month,day):\n",
    "        date = datetime(i,j,k)\n",
    "        gregorian_date = date.strftime('%Y-%m-%d %H:%M:%S')\n",
    "        Date.append(gregorian_date)\n",
    "    return Date    "
   ]
  },
  {
   "cell_type": "code",
   "execution_count": 5,
   "id": "a4a73070-90a6-4553-804f-9c54819cf167",
   "metadata": {},
   "outputs": [
    {
     "data": {
      "text/html": [
       "<div>\n",
       "<style scoped>\n",
       "    .dataframe tbody tr th:only-of-type {\n",
       "        vertical-align: middle;\n",
       "    }\n",
       "\n",
       "    .dataframe tbody tr th {\n",
       "        vertical-align: top;\n",
       "    }\n",
       "\n",
       "    .dataframe thead th {\n",
       "        text-align: right;\n",
       "    }\n",
       "</style>\n",
       "<table border=\"1\" class=\"dataframe\">\n",
       "  <thead>\n",
       "    <tr style=\"text-align: right;\">\n",
       "      <th></th>\n",
       "      <th>0</th>\n",
       "      <th>1</th>\n",
       "      <th>2</th>\n",
       "      <th>3</th>\n",
       "      <th>4</th>\n",
       "      <th>5</th>\n",
       "      <th>6</th>\n",
       "      <th>Date</th>\n",
       "    </tr>\n",
       "  </thead>\n",
       "  <tbody>\n",
       "    <tr>\n",
       "      <th>0</th>\n",
       "      <td>1992</td>\n",
       "      <td>1</td>\n",
       "      <td>1</td>\n",
       "      <td>1992.001</td>\n",
       "      <td>186</td>\n",
       "      <td>0</td>\n",
       "      <td>186</td>\n",
       "      <td>1992-01-01 00:00:00</td>\n",
       "    </tr>\n",
       "    <tr>\n",
       "      <th>1</th>\n",
       "      <td>1992</td>\n",
       "      <td>1</td>\n",
       "      <td>2</td>\n",
       "      <td>1992.004</td>\n",
       "      <td>190</td>\n",
       "      <td>18</td>\n",
       "      <td>172</td>\n",
       "      <td>1992-01-02 00:00:00</td>\n",
       "    </tr>\n",
       "  </tbody>\n",
       "</table>\n",
       "</div>"
      ],
      "text/plain": [
       "      0  1  2         3    4   5    6                 Date\n",
       "0  1992  1  1  1992.001  186   0  186  1992-01-01 00:00:00\n",
       "1  1992  1  2  1992.004  190  18  172  1992-01-02 00:00:00"
      ]
     },
     "execution_count": 5,
     "metadata": {},
     "output_type": "execute_result"
    }
   ],
   "source": [
    "sn['Date']=to_gregorian_date(sn[0],sn[1],sn[2])\n",
    "sn.head(2)"
   ]
  },
  {
   "cell_type": "code",
   "execution_count": 6,
   "id": "9a2148ec-4fd7-45d8-80c8-7247081606b4",
   "metadata": {},
   "outputs": [],
   "source": [
    "##Convert the date column to a datetime data type\n",
    "sn['date'] = pd.to_datetime(sn['Date'])"
   ]
  },
  {
   "cell_type": "code",
   "execution_count": 7,
   "id": "9143d59d-9196-481f-8a07-af019ea12bff",
   "metadata": {},
   "outputs": [],
   "source": [
    "## Convert the date column as the index and convert the time to UTC format\n",
    "sn.index = sn['date']\n",
    "sn.index = sn.index.tz_localize('UTC')"
   ]
  },
  {
   "cell_type": "code",
   "execution_count": 8,
   "id": "3ab8362f-7321-47f0-99b4-02cf7d353b04",
   "metadata": {},
   "outputs": [
    {
     "data": {
      "text/html": [
       "<div>\n",
       "<style scoped>\n",
       "    .dataframe tbody tr th:only-of-type {\n",
       "        vertical-align: middle;\n",
       "    }\n",
       "\n",
       "    .dataframe tbody tr th {\n",
       "        vertical-align: top;\n",
       "    }\n",
       "\n",
       "    .dataframe thead th {\n",
       "        text-align: right;\n",
       "    }\n",
       "</style>\n",
       "<table border=\"1\" class=\"dataframe\">\n",
       "  <thead>\n",
       "    <tr style=\"text-align: right;\">\n",
       "      <th></th>\n",
       "      <th>0</th>\n",
       "      <th>1</th>\n",
       "      <th>2</th>\n",
       "      <th>3</th>\n",
       "      <th>4</th>\n",
       "      <th>5</th>\n",
       "      <th>6</th>\n",
       "      <th>Date</th>\n",
       "      <th>date</th>\n",
       "    </tr>\n",
       "    <tr>\n",
       "      <th>date</th>\n",
       "      <th></th>\n",
       "      <th></th>\n",
       "      <th></th>\n",
       "      <th></th>\n",
       "      <th></th>\n",
       "      <th></th>\n",
       "      <th></th>\n",
       "      <th></th>\n",
       "      <th></th>\n",
       "    </tr>\n",
       "  </thead>\n",
       "  <tbody>\n",
       "    <tr>\n",
       "      <th>1992-01-01 00:00:00+00:00</th>\n",
       "      <td>1992</td>\n",
       "      <td>1</td>\n",
       "      <td>1</td>\n",
       "      <td>1992.001</td>\n",
       "      <td>186</td>\n",
       "      <td>0</td>\n",
       "      <td>186</td>\n",
       "      <td>1992-01-01 00:00:00</td>\n",
       "      <td>1992-01-01</td>\n",
       "    </tr>\n",
       "    <tr>\n",
       "      <th>1992-01-02 00:00:00+00:00</th>\n",
       "      <td>1992</td>\n",
       "      <td>1</td>\n",
       "      <td>2</td>\n",
       "      <td>1992.004</td>\n",
       "      <td>190</td>\n",
       "      <td>18</td>\n",
       "      <td>172</td>\n",
       "      <td>1992-01-02 00:00:00</td>\n",
       "      <td>1992-01-02</td>\n",
       "    </tr>\n",
       "    <tr>\n",
       "      <th>1992-01-03 00:00:00+00:00</th>\n",
       "      <td>1992</td>\n",
       "      <td>1</td>\n",
       "      <td>3</td>\n",
       "      <td>1992.007</td>\n",
       "      <td>234</td>\n",
       "      <td>26</td>\n",
       "      <td>208</td>\n",
       "      <td>1992-01-03 00:00:00</td>\n",
       "      <td>1992-01-03</td>\n",
       "    </tr>\n",
       "  </tbody>\n",
       "</table>\n",
       "</div>"
      ],
      "text/plain": [
       "                              0  1  2         3    4   5    6  \\\n",
       "date                                                            \n",
       "1992-01-01 00:00:00+00:00  1992  1  1  1992.001  186   0  186   \n",
       "1992-01-02 00:00:00+00:00  1992  1  2  1992.004  190  18  172   \n",
       "1992-01-03 00:00:00+00:00  1992  1  3  1992.007  234  26  208   \n",
       "\n",
       "                                          Date       date  \n",
       "date                                                       \n",
       "1992-01-01 00:00:00+00:00  1992-01-01 00:00:00 1992-01-01  \n",
       "1992-01-02 00:00:00+00:00  1992-01-02 00:00:00 1992-01-02  \n",
       "1992-01-03 00:00:00+00:00  1992-01-03 00:00:00 1992-01-03  "
      ]
     },
     "execution_count": 8,
     "metadata": {},
     "output_type": "execute_result"
    }
   ],
   "source": [
    "sn.head(3)"
   ]
  },
  {
   "cell_type": "code",
   "execution_count": 9,
   "id": "8f28be43-7274-45e4-9ce3-28a904db7eba",
   "metadata": {},
   "outputs": [],
   "source": [
    "# Only select the total sunspot number and the north , south sunspot number column\n",
    "SN = sn.iloc[:,4:7]"
   ]
  },
  {
   "cell_type": "code",
   "execution_count": 10,
   "id": "073d0ebb-b5b5-40e6-b6f6-4b45ac14bcf5",
   "metadata": {},
   "outputs": [],
   "source": [
    "## Rename the columns\n",
    "SN.columns = ['total sunspots','north number', 'south number']"
   ]
  },
  {
   "cell_type": "code",
   "execution_count": 11,
   "id": "18f7f911-c27a-4e74-a8db-c96ceb976a75",
   "metadata": {},
   "outputs": [
    {
     "data": {
      "text/html": [
       "<div>\n",
       "<style scoped>\n",
       "    .dataframe tbody tr th:only-of-type {\n",
       "        vertical-align: middle;\n",
       "    }\n",
       "\n",
       "    .dataframe tbody tr th {\n",
       "        vertical-align: top;\n",
       "    }\n",
       "\n",
       "    .dataframe thead th {\n",
       "        text-align: right;\n",
       "    }\n",
       "</style>\n",
       "<table border=\"1\" class=\"dataframe\">\n",
       "  <thead>\n",
       "    <tr style=\"text-align: right;\">\n",
       "      <th></th>\n",
       "      <th>total sunspots</th>\n",
       "      <th>north number</th>\n",
       "      <th>south number</th>\n",
       "    </tr>\n",
       "    <tr>\n",
       "      <th>date</th>\n",
       "      <th></th>\n",
       "      <th></th>\n",
       "      <th></th>\n",
       "    </tr>\n",
       "  </thead>\n",
       "  <tbody>\n",
       "    <tr>\n",
       "      <th>1992-01-01 00:00:00+00:00</th>\n",
       "      <td>186</td>\n",
       "      <td>0</td>\n",
       "      <td>186</td>\n",
       "    </tr>\n",
       "    <tr>\n",
       "      <th>1992-01-02 00:00:00+00:00</th>\n",
       "      <td>190</td>\n",
       "      <td>18</td>\n",
       "      <td>172</td>\n",
       "    </tr>\n",
       "    <tr>\n",
       "      <th>1992-01-03 00:00:00+00:00</th>\n",
       "      <td>234</td>\n",
       "      <td>26</td>\n",
       "      <td>208</td>\n",
       "    </tr>\n",
       "    <tr>\n",
       "      <th>1992-01-04 00:00:00+00:00</th>\n",
       "      <td>243</td>\n",
       "      <td>54</td>\n",
       "      <td>189</td>\n",
       "    </tr>\n",
       "  </tbody>\n",
       "</table>\n",
       "</div>"
      ],
      "text/plain": [
       "                           total sunspots  north number  south number\n",
       "date                                                                 \n",
       "1992-01-01 00:00:00+00:00             186             0           186\n",
       "1992-01-02 00:00:00+00:00             190            18           172\n",
       "1992-01-03 00:00:00+00:00             234            26           208\n",
       "1992-01-04 00:00:00+00:00             243            54           189"
      ]
     },
     "execution_count": 11,
     "metadata": {},
     "output_type": "execute_result"
    }
   ],
   "source": [
    "SN.head(4) ## Display the daily sunspot number from 1992-01-01"
   ]
  },
  {
   "cell_type": "code",
   "execution_count": 12,
   "id": "1116b7b8-de43-4d14-90f0-02491b3be9bd",
   "metadata": {},
   "outputs": [
    {
     "data": {
      "text/plain": [
       "total sunspots    0\n",
       "north number      0\n",
       "south number      0\n",
       "dtype: int64"
      ]
     },
     "execution_count": 12,
     "metadata": {},
     "output_type": "execute_result"
    }
   ],
   "source": [
    "# Check for nulls\n",
    "SN.isna().sum()"
   ]
  },
  {
   "cell_type": "code",
   "execution_count": 13,
   "id": "131c2698-c6c6-4a34-a2f4-da0607023dbc",
   "metadata": {},
   "outputs": [
    {
     "data": {
      "text/plain": [
       "total sunspots    308\n",
       "north number      201\n",
       "south number      200\n",
       "dtype: int64"
      ]
     },
     "execution_count": 13,
     "metadata": {},
     "output_type": "execute_result"
    }
   ],
   "source": [
    "# Check for nunique\n",
    "SN.nunique()"
   ]
  },
  {
   "cell_type": "code",
   "execution_count": 14,
   "id": "3b9b9bb1-2d83-4039-879a-aac42509c9e0",
   "metadata": {},
   "outputs": [],
   "source": [
    "#arima = SN.loc['1992-01':'2022-12']"
   ]
  },
  {
   "cell_type": "markdown",
   "id": "f191abdb-9b0c-4493-8c9c-39887cc73e53",
   "metadata": {},
   "source": [
    "#### Plot the Sunspot solar cycle"
   ]
  },
  {
   "cell_type": "code",
   "execution_count": null,
   "id": "14ddc986-1ef7-4f93-9b88-f60f2b65c749",
   "metadata": {},
   "outputs": [],
   "source": [
    "fig, ax = plt.subplots(figsize=(18, 6))  \n",
    "\n",
    "SN.plot(ax=ax)\n",
    "\n",
    "ax.set_xlabel(\"Date\",fontdict= {'size': 12})\n",
    "ax.set_ylabel(\"Sunspot Number\",fontdict= {'size': 12})\n",
    "ax.set_title(\"Sunspot solar cycle\",fontdict= {'size': 20})\n",
    "\n",
    "# Add vertical lines at specific dates\n",
    "ax.axvline('1996-05', color='k', linestyle='--')\n",
    "ax.axvline('2008-12', color='k', linestyle='--')\n",
    "ax.axvline('2019-12', color='k', linestyle='--')\n",
    "\n",
    "plt.show()"
   ]
  },
  {
   "cell_type": "code",
   "execution_count": 16,
   "id": "36a320b2-6bbb-4079-b182-c114c645fac4",
   "metadata": {},
   "outputs": [],
   "source": [
    "## Function to test whether the series is stationary and the value for d\n",
    "def find_d(data):\n",
    "    d = 0    # Initialize d to 0\n",
    "    \n",
    "    while adfuller(data.dropna())[1] >= 0.05:\n",
    "        data = data.diff().dropna()         # Differencing the data\n",
    "        d += 1                              # Increment d\n",
    "        \n",
    "    print(f'Series is stationary, and d = {d}')"
   ]
  },
  {
   "cell_type": "code",
   "execution_count": 17,
   "id": "42871109-24ff-4e34-8a94-b89c27cd310d",
   "metadata": {},
   "outputs": [
    {
     "name": "stdout",
     "output_type": "stream",
     "text": [
      "Series is stationary, and d = 0\n"
     ]
    }
   ],
   "source": [
    "find_d(SN['total sunspots'])"
   ]
  },
  {
   "cell_type": "code",
   "execution_count": 18,
   "id": "c11f5041-ecac-4959-8770-bbce54e11907",
   "metadata": {},
   "outputs": [
    {
     "data": {
      "image/png": "[encoded data removed]",
      "text/plain": [
       "<Figure size 640x480 with 1 Axes>"
      ]
     },
     "metadata": {},
     "output_type": "display_data"
    }
   ],
   "source": [
    "plot_acf(SN['total sunspots'].dropna(),lags = 700);"
   ]
  },
  {
   "cell_type": "code",
   "execution_count": 19,
   "id": "6de8009b-997b-4174-9591-7a5536dbd0ad",
   "metadata": {},
   "outputs": [
    {
     "data": {
      "image/png": "[encoded data removed]",
      "text/plain": [
       "<Figure size 640x480 with 1 Axes>"
      ]
     },
     "metadata": {},
     "output_type": "display_data"
    }
   ],
   "source": [
    "plot_pacf(SN['total sunspots'].dropna(),lags = 10);"
   ]
  },
  {
   "cell_type": "code",
   "execution_count": 20,
   "id": "1e26b0cc-b089-495d-b52b-be12a59b4e05",
   "metadata": {},
   "outputs": [],
   "source": [
    "# Create train-test split.\n",
    "X_train, X_test, y_train, y_test = train_test_split(SN['total sunspots'],\n",
    "                                                    SN['total sunspots'],\n",
    "                                                    test_size = 0.3,\n",
    "                                                    shuffle = False) # Shuffle = False is IMPORTANT!"
   ]
  },
  {
   "cell_type": "code",
   "execution_count": 22,
   "id": "cdecafca-4b27-46e5-b3ae-5417231a88ca",
   "metadata": {},
   "outputs": [],
   "source": [
    "import warnings\n",
    "# Set to ignore any warnings\n",
    "warnings.filterwarnings('ignore')"
   ]
  },
  {
   "cell_type": "code",
   "execution_count": 30,
   "id": "f52f4218-9a0b-4159-9ca6-90232a5b7cb0",
   "metadata": {},
   "outputs": [],
   "source": [
    "model = ARIMA(endog=y_train.astype(float).dropna(), order = (52, 0, 10)) "
   ]
  },
  {
   "cell_type": "code",
   "execution_count": null,
   "id": "5d9a77dc-fe8f-428e-a8c2-b9d6123eb29f",
   "metadata": {},
   "outputs": [],
   "source": [
    "# Fit model.\n",
    "arima = model.fit()"
   ]
  },
  {
   "cell_type": "code",
   "execution_count": null,
   "id": "63a40c15-8154-4464-8613-b55bec68d23c",
   "metadata": {},
   "outputs": [],
   "source": [
    "y_test"
   ]
  },
  {
   "cell_type": "code",
   "execution_count": null,
   "id": "7d17a638-d2e9-4b4c-914a-35067f45b5f0",
   "metadata": {},
   "outputs": [],
   "source": [
    "predictions = arima.predict(start = y_test.index[0], end = y_test.index[-1])"
   ]
  },
  {
   "cell_type": "markdown",
   "id": "23e229e8-cea6-4edb-a284-264a2dce9c25",
   "metadata": {},
   "source": [
    "#### Plot the predictions"
   ]
  },
  {
   "cell_type": "code",
   "execution_count": null,
   "id": "46efc7ce-7455-4872-ac27-48b8f1c3a7e9",
   "metadata": {},
   "outputs": [],
   "source": [
    "fig, ax = plt.subplots(figsize=(10, 5))  \n",
    "\n",
    "y_train.plot(ax=ax)\n",
    "y_test.plot(ax=ax)\n",
    "predictions.plot(ax=ax)\n",
    "\n",
    "ax.set_xlabel(\"Time\")\n",
    "ax.set_ylabel(\"Sunspot number\")\n",
    "ax.set_title(\"Solar cycle predictions\")\n",
    "#ax.legend(['B_{1au}','Arima_model']) \n",
    "\n",
    "plt.show()"
   ]
  },
  {
   "cell_type": "code",
   "execution_count": null,
   "id": "aa2f24aa-0c5a-446e-bebd-ede34dd01458",
   "metadata": {},
   "outputs": [],
   "source": []
  },
  {
   "cell_type": "code",
   "execution_count": null,
   "id": "88735fab-eb91-4cf4-a3c9-2621db574487",
   "metadata": {},
   "outputs": [],
   "source": []
  },
  {
   "cell_type": "code",
   "execution_count": null,
   "id": "f36d529f-c866-4bce-8a0d-2cca640c5630",
   "metadata": {},
   "outputs": [],
   "source": []
  },
  {
   "cell_type": "code",
   "execution_count": null,
   "id": "6a5f64cf-d10b-4455-bb19-b6395e041362",
   "metadata": {},
   "outputs": [],
   "source": []
  },
  {
   "cell_type": "code",
   "execution_count": null,
   "id": "004d38ba-8b00-4d37-9689-9b40943c223b",
   "metadata": {},
   "outputs": [],
   "source": []
  },
  {
   "cell_type": "code",
   "execution_count": null,
   "id": "18644151-190f-46ae-a24e-bb0dafd8dd02",
   "metadata": {},
   "outputs": [],
   "source": []
  },
  {
   "cell_type": "code",
   "execution_count": null,
   "id": "e79a780a-9dbc-492c-b77f-219f22d7107c",
   "metadata": {},
   "outputs": [],
   "source": []
  },
  {
   "cell_type": "code",
   "execution_count": null,
   "id": "f3e09454-f39c-4b65-8fe6-833b8d415619",
   "metadata": {},
   "outputs": [],
   "source": []
  },
  {
   "cell_type": "code",
   "execution_count": null,
   "id": "ec169de5-d071-4e9b-906e-00b279acbed7",
   "metadata": {},
   "outputs": [],
   "source": []
  },
  {
   "cell_type": "code",
   "execution_count": null,
   "id": "83e1f17b-11f0-4a7c-ba76-f78f9f1d069c",
   "metadata": {},
   "outputs": [],
   "source": []
  },
  {
   "cell_type": "code",
   "execution_count": null,
   "id": "24b5443f-67b8-46f8-9dcb-124a11459029",
   "metadata": {},
   "outputs": [],
   "source": []
  },
  {
   "cell_type": "code",
   "execution_count": null,
   "id": "783c9e40-1818-4902-8c7d-9f270e4301fc",
   "metadata": {},
   "outputs": [],
   "source": []
  },
  {
   "cell_type": "code",
   "execution_count": null,
   "id": "33f881fe-84e1-4fab-ad65-1581404ad40b",
   "metadata": {},
   "outputs": [],
   "source": []
  },
  {
   "cell_type": "code",
   "execution_count": null,
   "id": "5d269855-b673-4716-8f39-41e7b5051b19",
   "metadata": {},
   "outputs": [],
   "source": []
  },
  {
   "cell_type": "code",
   "execution_count": null,
   "id": "4394bac5-79a8-40ca-9b24-befd58c1991b",
   "metadata": {},
   "outputs": [],
   "source": []
  },
  {
   "cell_type": "code",
   "execution_count": null,
   "id": "0356b7ac-943b-4fa3-b4fe-c95f7b06585a",
   "metadata": {},
   "outputs": [],
   "source": []
  },
  {
   "cell_type": "code",
   "execution_count": null,
   "id": "d0626a6e-0d95-4eda-8e87-ac01f95d53d2",
   "metadata": {},
   "outputs": [],
   "source": []
  },
  {
   "cell_type": "code",
   "execution_count": null,
   "id": "77906150-398b-4741-bc1d-b4f7efe39fce",
   "metadata": {},
   "outputs": [],
   "source": []
  },
  {
   "cell_type": "code",
   "execution_count": null,
   "id": "43de7093-42ed-4a6b-b311-a36e1338388d",
   "metadata": {},
   "outputs": [],
   "source": []
  },
  {
   "cell_type": "code",
   "execution_count": null,
   "id": "6cc4a926-0306-409c-af8b-65fe08afc487",
   "metadata": {},
   "outputs": [],
   "source": []
  },
  {
   "cell_type": "code",
   "execution_count": null,
   "id": "60c0c691-7246-43d6-9311-deef002ba8e5",
   "metadata": {},
   "outputs": [],
   "source": []
  },
  {
   "cell_type": "code",
   "execution_count": null,
   "id": "4c862b4d-9074-4f4a-a81d-86404bb68e8f",
   "metadata": {},
   "outputs": [],
   "source": []
  },
  {
   "cell_type": "code",
   "execution_count": 1093,
   "id": "279ba6bb-3a14-4d10-9a5d-8646a6ce27d9",
   "metadata": {},
   "outputs": [],
   "source": [
    "df_1 = pd.read_csv('Data_collection/Data/1992-2023.csv1',skiprows=0)"
   ]
  },
  {
   "cell_type": "code",
   "execution_count": 1094,
   "id": "f7d6e032-7c6d-41d4-a0d7-6e1d2ffa23aa",
   "metadata": {},
   "outputs": [],
   "source": [
    "##define the columns\n",
    "df_1.columns = ['date', 'B','T[K]','Np','Ur']"
   ]
  },
  {
   "cell_type": "code",
   "execution_count": 1095,
   "id": "0b34aa26-21da-4a40-a321-0b7a8295599a",
   "metadata": {},
   "outputs": [],
   "source": [
    "df_1['date']=pd.to_datetime(df_1['date'])"
   ]
  },
  {
   "cell_type": "code",
   "execution_count": 1096,
   "id": "bc785f12-0b81-458a-a499-7a14b80947d1",
   "metadata": {},
   "outputs": [],
   "source": [
    "df_1.set_index('date' , inplace = True)"
   ]
  },
  {
   "cell_type": "code",
   "execution_count": 1097,
   "id": "84315058-2656-4e69-b12e-0e4f23d9ce4a",
   "metadata": {},
   "outputs": [],
   "source": [
    "OMNI = df_1.resample('D').mean()"
   ]
  },
  {
   "cell_type": "code",
   "execution_count": 1098,
   "id": "855dc76d-f873-4771-8f38-adfd26d1d1e4",
   "metadata": {},
   "outputs": [
    {
     "data": {
      "text/html": [
       "<div>\n",
       "<style scoped>\n",
       "    .dataframe tbody tr th:only-of-type {\n",
       "        vertical-align: middle;\n",
       "    }\n",
       "\n",
       "    .dataframe tbody tr th {\n",
       "        vertical-align: top;\n",
       "    }\n",
       "\n",
       "    .dataframe thead th {\n",
       "        text-align: right;\n",
       "    }\n",
       "</style>\n",
       "<table border=\"1\" class=\"dataframe\">\n",
       "  <thead>\n",
       "    <tr style=\"text-align: right;\">\n",
       "      <th></th>\n",
       "      <th>B</th>\n",
       "      <th>T[K]</th>\n",
       "      <th>Np</th>\n",
       "      <th>Ur</th>\n",
       "    </tr>\n",
       "    <tr>\n",
       "      <th>date</th>\n",
       "      <th></th>\n",
       "      <th></th>\n",
       "      <th></th>\n",
       "      <th></th>\n",
       "    </tr>\n",
       "  </thead>\n",
       "  <tbody>\n",
       "    <tr>\n",
       "      <th>1992-01-01 00:00:00+00:00</th>\n",
       "      <td>793.791667</td>\n",
       "      <td>1.000000e+07</td>\n",
       "      <td>999.900000</td>\n",
       "      <td>9999.000000</td>\n",
       "    </tr>\n",
       "    <tr>\n",
       "      <th>1992-01-02 00:00:00+00:00</th>\n",
       "      <td>751.920833</td>\n",
       "      <td>8.349143e+06</td>\n",
       "      <td>834.462500</td>\n",
       "      <td>8406.500000</td>\n",
       "    </tr>\n",
       "    <tr>\n",
       "      <th>1992-01-03 00:00:00+00:00</th>\n",
       "      <td>381.237500</td>\n",
       "      <td>4.199707e+06</td>\n",
       "      <td>419.579167</td>\n",
       "      <td>4417.375000</td>\n",
       "    </tr>\n",
       "    <tr>\n",
       "      <th>1992-01-04 00:00:00+00:00</th>\n",
       "      <td>505.575000</td>\n",
       "      <td>5.060331e+06</td>\n",
       "      <td>502.795833</td>\n",
       "      <td>5229.333333</td>\n",
       "    </tr>\n",
       "    <tr>\n",
       "      <th>1992-01-05 00:00:00+00:00</th>\n",
       "      <td>545.333333</td>\n",
       "      <td>5.468875e+06</td>\n",
       "      <td>544.137500</td>\n",
       "      <td>5624.333333</td>\n",
       "    </tr>\n",
       "  </tbody>\n",
       "</table>\n",
       "</div>"
      ],
      "text/plain": [
       "                                    B          T[K]          Np           Ur\n",
       "date                                                                        \n",
       "1992-01-01 00:00:00+00:00  793.791667  1.000000e+07  999.900000  9999.000000\n",
       "1992-01-02 00:00:00+00:00  751.920833  8.349143e+06  834.462500  8406.500000\n",
       "1992-01-03 00:00:00+00:00  381.237500  4.199707e+06  419.579167  4417.375000\n",
       "1992-01-04 00:00:00+00:00  505.575000  5.060331e+06  502.795833  5229.333333\n",
       "1992-01-05 00:00:00+00:00  545.333333  5.468875e+06  544.137500  5624.333333"
      ]
     },
     "execution_count": 1098,
     "metadata": {},
     "output_type": "execute_result"
    }
   ],
   "source": [
    "OMNI.head()"
   ]
  },
  {
   "cell_type": "code",
   "execution_count": 1099,
   "id": "7e8cb47e-d10c-4164-833f-87a4be0cc1bf",
   "metadata": {},
   "outputs": [],
   "source": [
    "B = []\n",
    "for i in OMNI['B']:\n",
    "    if i > 30:\n",
    "        B.append(np.nan)\n",
    "    else:\n",
    "        B.append(i)"
   ]
  },
  {
   "cell_type": "code",
   "execution_count": 1100,
   "id": "f2a52c76-4042-49e0-bb33-579f17b22ce7",
   "metadata": {},
   "outputs": [],
   "source": [
    "OMNI['B']=B"
   ]
  },
  {
   "cell_type": "code",
   "execution_count": 1101,
   "id": "38be85a0-7e13-4422-9c9b-0dd956f9a649",
   "metadata": {},
   "outputs": [
    {
     "data": {
      "image/png": "[encoded data removed]",
      "text/plain": [
       "<Figure size 640x480 with 1 Axes>"
      ]
     },
     "metadata": {},
     "output_type": "display_data"
    }
   ],
   "source": [
    "OMNI['B'].plot();"
   ]
  },
  {
   "cell_type": "code",
   "execution_count": 1102,
   "id": "6e787a5a-8ab2-4bf1-9c7b-0a3f4b0a7a3f",
   "metadata": {},
   "outputs": [],
   "source": [
    "U= []\n",
    "for i in OMNI['Ur']:\n",
    "    if i > 1000:\n",
    "        U.append(np.nan)\n",
    "    else:\n",
    "        U.append(i)"
   ]
  },
  {
   "cell_type": "code",
   "execution_count": 1103,
   "id": "cfbd00a4-ea16-4596-81eb-d24e47783efb",
   "metadata": {},
   "outputs": [],
   "source": [
    "OMNI['Ur'] = U"
   ]
  },
  {
   "cell_type": "code",
   "execution_count": 1104,
   "id": "e30f61eb-6453-43a8-81c3-73789e2d6823",
   "metadata": {},
   "outputs": [
    {
     "data": {
      "image/png": "[encoded data removed]",
      "text/plain": [
       "<Figure size 640x480 with 1 Axes>"
      ]
     },
     "metadata": {},
     "output_type": "display_data"
    }
   ],
   "source": [
    "OMNI['Ur'].plot();"
   ]
  },
  {
   "cell_type": "code",
   "execution_count": 1105,
   "id": "9283b0a5-f412-4e02-8af6-7705b26fa66b",
   "metadata": {},
   "outputs": [],
   "source": [
    "N= []\n",
    "for i in OMNI['Np']:\n",
    "    if i > 30:\n",
    "        N.append(np.nan)\n",
    "    else:\n",
    "        N.append(i)"
   ]
  },
  {
   "cell_type": "code",
   "execution_count": 1106,
   "id": "476c8ff5-e184-4292-b1e8-fa40cad801fb",
   "metadata": {},
   "outputs": [],
   "source": [
    "OMNI['Np'] = N"
   ]
  },
  {
   "cell_type": "code",
   "execution_count": 1107,
   "id": "89c8d127-b2d3-4649-b545-fc7473bc4ce6",
   "metadata": {},
   "outputs": [
    {
     "data": {
      "image/png": "[encoded data removed]",
      "text/plain": [
       "<Figure size 640x480 with 1 Axes>"
      ]
     },
     "metadata": {},
     "output_type": "display_data"
    }
   ],
   "source": [
    "OMNI['Np'].plot();"
   ]
  },
  {
   "cell_type": "code",
   "execution_count": 1108,
   "id": "a3aecef4-35bf-45ac-80d0-27b2b29fa03b",
   "metadata": {},
   "outputs": [],
   "source": [
    "T= []\n",
    "for i in OMNI['T[K]']:\n",
    "    if i > 0.500000e+06:\n",
    "        T.append(np.nan)\n",
    "    else:\n",
    "        T.append(i)"
   ]
  },
  {
   "cell_type": "code",
   "execution_count": 1109,
   "id": "1e8bbbe5-58da-4b80-9623-0de7b16a2d7e",
   "metadata": {},
   "outputs": [],
   "source": [
    "OMNI['T[K]'] = T"
   ]
  },
  {
   "cell_type": "code",
   "execution_count": 1110,
   "id": "284f81c1-51a7-4a00-ad30-f275be944a01",
   "metadata": {},
   "outputs": [
    {
     "data": {
      "text/plain": [
       "<Axes: xlabel='date'>"
      ]
     },
     "execution_count": 1110,
     "metadata": {},
     "output_type": "execute_result"
    },
    {
     "data": {
      "image/png": "[encoded data removed]",
      "text/plain": [
       "<Figure size 640x480 with 1 Axes>"
      ]
     },
     "metadata": {},
     "output_type": "display_data"
    }
   ],
   "source": [
    "OMNI['T[K]'].plot()"
   ]
  },
  {
   "cell_type": "code",
   "execution_count": 1111,
   "id": "ffa63fdb-3266-4fde-bc07-c95873a0482f",
   "metadata": {},
   "outputs": [
    {
     "data": {
      "text/html": [
       "<div>\n",
       "<style scoped>\n",
       "    .dataframe tbody tr th:only-of-type {\n",
       "        vertical-align: middle;\n",
       "    }\n",
       "\n",
       "    .dataframe tbody tr th {\n",
       "        vertical-align: top;\n",
       "    }\n",
       "\n",
       "    .dataframe thead th {\n",
       "        text-align: right;\n",
       "    }\n",
       "</style>\n",
       "<table border=\"1\" class=\"dataframe\">\n",
       "  <thead>\n",
       "    <tr style=\"text-align: right;\">\n",
       "      <th></th>\n",
       "      <th>tot</th>\n",
       "      <th>north</th>\n",
       "      <th>south</th>\n",
       "    </tr>\n",
       "    <tr>\n",
       "      <th>date</th>\n",
       "      <th></th>\n",
       "      <th></th>\n",
       "      <th></th>\n",
       "    </tr>\n",
       "  </thead>\n",
       "  <tbody>\n",
       "    <tr>\n",
       "      <th>1992-01-01</th>\n",
       "      <td>186</td>\n",
       "      <td>0</td>\n",
       "      <td>186</td>\n",
       "    </tr>\n",
       "    <tr>\n",
       "      <th>1992-01-02</th>\n",
       "      <td>190</td>\n",
       "      <td>18</td>\n",
       "      <td>172</td>\n",
       "    </tr>\n",
       "    <tr>\n",
       "      <th>1992-01-03</th>\n",
       "      <td>234</td>\n",
       "      <td>26</td>\n",
       "      <td>208</td>\n",
       "    </tr>\n",
       "    <tr>\n",
       "      <th>1992-01-04</th>\n",
       "      <td>243</td>\n",
       "      <td>54</td>\n",
       "      <td>189</td>\n",
       "    </tr>\n",
       "    <tr>\n",
       "      <th>1992-01-05</th>\n",
       "      <td>242</td>\n",
       "      <td>58</td>\n",
       "      <td>184</td>\n",
       "    </tr>\n",
       "    <tr>\n",
       "      <th>...</th>\n",
       "      <td>...</td>\n",
       "      <td>...</td>\n",
       "      <td>...</td>\n",
       "    </tr>\n",
       "    <tr>\n",
       "      <th>2022-12-27</th>\n",
       "      <td>94</td>\n",
       "      <td>77</td>\n",
       "      <td>17</td>\n",
       "    </tr>\n",
       "    <tr>\n",
       "      <th>2022-12-28</th>\n",
       "      <td>103</td>\n",
       "      <td>72</td>\n",
       "      <td>31</td>\n",
       "    </tr>\n",
       "    <tr>\n",
       "      <th>2022-12-29</th>\n",
       "      <td>123</td>\n",
       "      <td>80</td>\n",
       "      <td>43</td>\n",
       "    </tr>\n",
       "    <tr>\n",
       "      <th>2022-12-30</th>\n",
       "      <td>124</td>\n",
       "      <td>92</td>\n",
       "      <td>32</td>\n",
       "    </tr>\n",
       "    <tr>\n",
       "      <th>2022-12-31</th>\n",
       "      <td>98</td>\n",
       "      <td>80</td>\n",
       "      <td>18</td>\n",
       "    </tr>\n",
       "  </tbody>\n",
       "</table>\n",
       "<p>11323 rows × 3 columns</p>\n",
       "</div>"
      ],
      "text/plain": [
       "            tot  north  south\n",
       "date                         \n",
       "1992-01-01  186      0    186\n",
       "1992-01-02  190     18    172\n",
       "1992-01-03  234     26    208\n",
       "1992-01-04  243     54    189\n",
       "1992-01-05  242     58    184\n",
       "...         ...    ...    ...\n",
       "2022-12-27   94     77     17\n",
       "2022-12-28  103     72     31\n",
       "2022-12-29  123     80     43\n",
       "2022-12-30  124     92     32\n",
       "2022-12-31   98     80     18\n",
       "\n",
       "[11323 rows x 3 columns]"
      ]
     },
     "execution_count": 1111,
     "metadata": {},
     "output_type": "execute_result"
    }
   ],
   "source": [
    "arima.dropna()"
   ]
  },
  {
   "cell_type": "code",
   "execution_count": 1112,
   "id": "a738bc17-751c-4584-8052-cd5af7b69319",
   "metadata": {},
   "outputs": [
    {
     "data": {
      "text/html": [
       "<div>\n",
       "<style scoped>\n",
       "    .dataframe tbody tr th:only-of-type {\n",
       "        vertical-align: middle;\n",
       "    }\n",
       "\n",
       "    .dataframe tbody tr th {\n",
       "        vertical-align: top;\n",
       "    }\n",
       "\n",
       "    .dataframe thead th {\n",
       "        text-align: right;\n",
       "    }\n",
       "</style>\n",
       "<table border=\"1\" class=\"dataframe\">\n",
       "  <thead>\n",
       "    <tr style=\"text-align: right;\">\n",
       "      <th></th>\n",
       "      <th>tot</th>\n",
       "      <th>north</th>\n",
       "      <th>south</th>\n",
       "    </tr>\n",
       "    <tr>\n",
       "      <th>date</th>\n",
       "      <th></th>\n",
       "      <th></th>\n",
       "      <th></th>\n",
       "    </tr>\n",
       "  </thead>\n",
       "  <tbody>\n",
       "    <tr>\n",
       "      <th>1992-01-01</th>\n",
       "      <td>186</td>\n",
       "      <td>0</td>\n",
       "      <td>186</td>\n",
       "    </tr>\n",
       "    <tr>\n",
       "      <th>1992-01-02</th>\n",
       "      <td>190</td>\n",
       "      <td>18</td>\n",
       "      <td>172</td>\n",
       "    </tr>\n",
       "    <tr>\n",
       "      <th>1992-01-03</th>\n",
       "      <td>234</td>\n",
       "      <td>26</td>\n",
       "      <td>208</td>\n",
       "    </tr>\n",
       "    <tr>\n",
       "      <th>1992-01-04</th>\n",
       "      <td>243</td>\n",
       "      <td>54</td>\n",
       "      <td>189</td>\n",
       "    </tr>\n",
       "    <tr>\n",
       "      <th>1992-01-05</th>\n",
       "      <td>242</td>\n",
       "      <td>58</td>\n",
       "      <td>184</td>\n",
       "    </tr>\n",
       "    <tr>\n",
       "      <th>...</th>\n",
       "      <td>...</td>\n",
       "      <td>...</td>\n",
       "      <td>...</td>\n",
       "    </tr>\n",
       "    <tr>\n",
       "      <th>2022-12-27</th>\n",
       "      <td>94</td>\n",
       "      <td>77</td>\n",
       "      <td>17</td>\n",
       "    </tr>\n",
       "    <tr>\n",
       "      <th>2022-12-28</th>\n",
       "      <td>103</td>\n",
       "      <td>72</td>\n",
       "      <td>31</td>\n",
       "    </tr>\n",
       "    <tr>\n",
       "      <th>2022-12-29</th>\n",
       "      <td>123</td>\n",
       "      <td>80</td>\n",
       "      <td>43</td>\n",
       "    </tr>\n",
       "    <tr>\n",
       "      <th>2022-12-30</th>\n",
       "      <td>124</td>\n",
       "      <td>92</td>\n",
       "      <td>32</td>\n",
       "    </tr>\n",
       "    <tr>\n",
       "      <th>2022-12-31</th>\n",
       "      <td>98</td>\n",
       "      <td>80</td>\n",
       "      <td>18</td>\n",
       "    </tr>\n",
       "  </tbody>\n",
       "</table>\n",
       "<p>11323 rows × 3 columns</p>\n",
       "</div>"
      ],
      "text/plain": [
       "            tot  north  south\n",
       "date                         \n",
       "1992-01-01  186      0    186\n",
       "1992-01-02  190     18    172\n",
       "1992-01-03  234     26    208\n",
       "1992-01-04  243     54    189\n",
       "1992-01-05  242     58    184\n",
       "...         ...    ...    ...\n",
       "2022-12-27   94     77     17\n",
       "2022-12-28  103     72     31\n",
       "2022-12-29  123     80     43\n",
       "2022-12-30  124     92     32\n",
       "2022-12-31   98     80     18\n",
       "\n",
       "[11323 rows x 3 columns]"
      ]
     },
     "execution_count": 1112,
     "metadata": {},
     "output_type": "execute_result"
    }
   ],
   "source": [
    "arima"
   ]
  },
  {
   "cell_type": "code",
   "execution_count": null,
   "id": "d1add73f-eb2a-42e4-96e1-f35930085efd",
   "metadata": {},
   "outputs": [],
   "source": []
  },
  {
   "cell_type": "code",
   "execution_count": 1113,
   "id": "9a291461-a08f-48ec-9eb9-2db36cb6b960",
   "metadata": {},
   "outputs": [],
   "source": [
    "#arima.plot()"
   ]
  },
  {
   "cell_type": "code",
   "execution_count": 1114,
   "id": "a748d5a0-3105-4b16-bd9c-2e882547b5f1",
   "metadata": {},
   "outputs": [],
   "source": [
    "arima.index = arima.index.tz_localize('UTC')"
   ]
  },
  {
   "cell_type": "code",
   "execution_count": 1115,
   "id": "0feba7ca-3e1d-46d9-b907-7e27ecdca1c1",
   "metadata": {},
   "outputs": [
    {
     "data": {
      "text/html": [
       "<div>\n",
       "<style scoped>\n",
       "    .dataframe tbody tr th:only-of-type {\n",
       "        vertical-align: middle;\n",
       "    }\n",
       "\n",
       "    .dataframe tbody tr th {\n",
       "        vertical-align: top;\n",
       "    }\n",
       "\n",
       "    .dataframe thead th {\n",
       "        text-align: right;\n",
       "    }\n",
       "</style>\n",
       "<table border=\"1\" class=\"dataframe\">\n",
       "  <thead>\n",
       "    <tr style=\"text-align: right;\">\n",
       "      <th></th>\n",
       "      <th>tot</th>\n",
       "      <th>north</th>\n",
       "      <th>south</th>\n",
       "    </tr>\n",
       "    <tr>\n",
       "      <th>date</th>\n",
       "      <th></th>\n",
       "      <th></th>\n",
       "      <th></th>\n",
       "    </tr>\n",
       "  </thead>\n",
       "  <tbody>\n",
       "    <tr>\n",
       "      <th>1992-01-01 00:00:00+00:00</th>\n",
       "      <td>186</td>\n",
       "      <td>0</td>\n",
       "      <td>186</td>\n",
       "    </tr>\n",
       "    <tr>\n",
       "      <th>1992-01-02 00:00:00+00:00</th>\n",
       "      <td>190</td>\n",
       "      <td>18</td>\n",
       "      <td>172</td>\n",
       "    </tr>\n",
       "    <tr>\n",
       "      <th>1992-01-03 00:00:00+00:00</th>\n",
       "      <td>234</td>\n",
       "      <td>26</td>\n",
       "      <td>208</td>\n",
       "    </tr>\n",
       "    <tr>\n",
       "      <th>1992-01-04 00:00:00+00:00</th>\n",
       "      <td>243</td>\n",
       "      <td>54</td>\n",
       "      <td>189</td>\n",
       "    </tr>\n",
       "    <tr>\n",
       "      <th>1992-01-05 00:00:00+00:00</th>\n",
       "      <td>242</td>\n",
       "      <td>58</td>\n",
       "      <td>184</td>\n",
       "    </tr>\n",
       "    <tr>\n",
       "      <th>...</th>\n",
       "      <td>...</td>\n",
       "      <td>...</td>\n",
       "      <td>...</td>\n",
       "    </tr>\n",
       "    <tr>\n",
       "      <th>2022-12-27 00:00:00+00:00</th>\n",
       "      <td>94</td>\n",
       "      <td>77</td>\n",
       "      <td>17</td>\n",
       "    </tr>\n",
       "    <tr>\n",
       "      <th>2022-12-28 00:00:00+00:00</th>\n",
       "      <td>103</td>\n",
       "      <td>72</td>\n",
       "      <td>31</td>\n",
       "    </tr>\n",
       "    <tr>\n",
       "      <th>2022-12-29 00:00:00+00:00</th>\n",
       "      <td>123</td>\n",
       "      <td>80</td>\n",
       "      <td>43</td>\n",
       "    </tr>\n",
       "    <tr>\n",
       "      <th>2022-12-30 00:00:00+00:00</th>\n",
       "      <td>124</td>\n",
       "      <td>92</td>\n",
       "      <td>32</td>\n",
       "    </tr>\n",
       "    <tr>\n",
       "      <th>2022-12-31 00:00:00+00:00</th>\n",
       "      <td>98</td>\n",
       "      <td>80</td>\n",
       "      <td>18</td>\n",
       "    </tr>\n",
       "  </tbody>\n",
       "</table>\n",
       "<p>11323 rows × 3 columns</p>\n",
       "</div>"
      ],
      "text/plain": [
       "                           tot  north  south\n",
       "date                                        \n",
       "1992-01-01 00:00:00+00:00  186      0    186\n",
       "1992-01-02 00:00:00+00:00  190     18    172\n",
       "1992-01-03 00:00:00+00:00  234     26    208\n",
       "1992-01-04 00:00:00+00:00  243     54    189\n",
       "1992-01-05 00:00:00+00:00  242     58    184\n",
       "...                        ...    ...    ...\n",
       "2022-12-27 00:00:00+00:00   94     77     17\n",
       "2022-12-28 00:00:00+00:00  103     72     31\n",
       "2022-12-29 00:00:00+00:00  123     80     43\n",
       "2022-12-30 00:00:00+00:00  124     92     32\n",
       "2022-12-31 00:00:00+00:00   98     80     18\n",
       "\n",
       "[11323 rows x 3 columns]"
      ]
     },
     "execution_count": 1115,
     "metadata": {},
     "output_type": "execute_result"
    }
   ],
   "source": [
    "arima"
   ]
  },
  {
   "cell_type": "code",
   "execution_count": 1357,
   "id": "b96680c0-7aeb-406e-a0d9-06546da66329",
   "metadata": {},
   "outputs": [],
   "source": [
    "OMNI;"
   ]
  },
  {
   "cell_type": "code",
   "execution_count": 1360,
   "id": "095f8302-d605-4a37-8c2f-dbddfe40b267",
   "metadata": {},
   "outputs": [],
   "source": [
    "New = OMNI.merge(arima, left_index=True, right_index=True, how='inner')"
   ]
  },
  {
   "cell_type": "code",
   "execution_count": 1361,
   "id": "15339660-0283-43d5-bf5b-b2d43285c0de",
   "metadata": {},
   "outputs": [],
   "source": [
    "#New.dropna(inplace = True)"
   ]
  },
  {
   "cell_type": "code",
   "execution_count": 1362,
   "id": "f3cf3e81-6a17-479d-a03e-b3d3a722d03e",
   "metadata": {},
   "outputs": [
    {
     "data": {
      "text/html": [
       "<div>\n",
       "<style scoped>\n",
       "    .dataframe tbody tr th:only-of-type {\n",
       "        vertical-align: middle;\n",
       "    }\n",
       "\n",
       "    .dataframe tbody tr th {\n",
       "        vertical-align: top;\n",
       "    }\n",
       "\n",
       "    .dataframe thead th {\n",
       "        text-align: right;\n",
       "    }\n",
       "</style>\n",
       "<table border=\"1\" class=\"dataframe\">\n",
       "  <thead>\n",
       "    <tr style=\"text-align: right;\">\n",
       "      <th></th>\n",
       "      <th>B</th>\n",
       "      <th>T[K]</th>\n",
       "      <th>Np</th>\n",
       "      <th>Ur</th>\n",
       "      <th>tot</th>\n",
       "      <th>north</th>\n",
       "      <th>south</th>\n",
       "    </tr>\n",
       "    <tr>\n",
       "      <th>date</th>\n",
       "      <th></th>\n",
       "      <th></th>\n",
       "      <th></th>\n",
       "      <th></th>\n",
       "      <th></th>\n",
       "      <th></th>\n",
       "      <th></th>\n",
       "    </tr>\n",
       "  </thead>\n",
       "  <tbody>\n",
       "    <tr>\n",
       "      <th>1992-01-01 00:00:00+00:00</th>\n",
       "      <td>NaN</td>\n",
       "      <td>NaN</td>\n",
       "      <td>NaN</td>\n",
       "      <td>NaN</td>\n",
       "      <td>186</td>\n",
       "      <td>0</td>\n",
       "      <td>186</td>\n",
       "    </tr>\n",
       "    <tr>\n",
       "      <th>1992-01-02 00:00:00+00:00</th>\n",
       "      <td>NaN</td>\n",
       "      <td>NaN</td>\n",
       "      <td>NaN</td>\n",
       "      <td>NaN</td>\n",
       "      <td>190</td>\n",
       "      <td>18</td>\n",
       "      <td>172</td>\n",
       "    </tr>\n",
       "    <tr>\n",
       "      <th>1992-01-03 00:00:00+00:00</th>\n",
       "      <td>NaN</td>\n",
       "      <td>NaN</td>\n",
       "      <td>NaN</td>\n",
       "      <td>NaN</td>\n",
       "      <td>234</td>\n",
       "      <td>26</td>\n",
       "      <td>208</td>\n",
       "    </tr>\n",
       "    <tr>\n",
       "      <th>1992-01-04 00:00:00+00:00</th>\n",
       "      <td>NaN</td>\n",
       "      <td>NaN</td>\n",
       "      <td>NaN</td>\n",
       "      <td>NaN</td>\n",
       "      <td>243</td>\n",
       "      <td>54</td>\n",
       "      <td>189</td>\n",
       "    </tr>\n",
       "    <tr>\n",
       "      <th>1992-01-05 00:00:00+00:00</th>\n",
       "      <td>NaN</td>\n",
       "      <td>NaN</td>\n",
       "      <td>NaN</td>\n",
       "      <td>NaN</td>\n",
       "      <td>242</td>\n",
       "      <td>58</td>\n",
       "      <td>184</td>\n",
       "    </tr>\n",
       "    <tr>\n",
       "      <th>...</th>\n",
       "      <td>...</td>\n",
       "      <td>...</td>\n",
       "      <td>...</td>\n",
       "      <td>...</td>\n",
       "      <td>...</td>\n",
       "      <td>...</td>\n",
       "      <td>...</td>\n",
       "    </tr>\n",
       "    <tr>\n",
       "      <th>2022-12-27 00:00:00+00:00</th>\n",
       "      <td>NaN</td>\n",
       "      <td>170672.500000</td>\n",
       "      <td>1.887500</td>\n",
       "      <td>516.250000</td>\n",
       "      <td>94</td>\n",
       "      <td>77</td>\n",
       "      <td>17</td>\n",
       "    </tr>\n",
       "    <tr>\n",
       "      <th>2022-12-28 00:00:00+00:00</th>\n",
       "      <td>NaN</td>\n",
       "      <td>170318.416667</td>\n",
       "      <td>1.825000</td>\n",
       "      <td>476.875000</td>\n",
       "      <td>103</td>\n",
       "      <td>72</td>\n",
       "      <td>31</td>\n",
       "    </tr>\n",
       "    <tr>\n",
       "      <th>2022-12-29 00:00:00+00:00</th>\n",
       "      <td>NaN</td>\n",
       "      <td>97242.500000</td>\n",
       "      <td>5.850000</td>\n",
       "      <td>429.666667</td>\n",
       "      <td>123</td>\n",
       "      <td>80</td>\n",
       "      <td>43</td>\n",
       "    </tr>\n",
       "    <tr>\n",
       "      <th>2022-12-30 00:00:00+00:00</th>\n",
       "      <td>NaN</td>\n",
       "      <td>201327.500000</td>\n",
       "      <td>6.987500</td>\n",
       "      <td>523.541667</td>\n",
       "      <td>124</td>\n",
       "      <td>92</td>\n",
       "      <td>32</td>\n",
       "    </tr>\n",
       "    <tr>\n",
       "      <th>2022-12-31 00:00:00+00:00</th>\n",
       "      <td>NaN</td>\n",
       "      <td>139659.875000</td>\n",
       "      <td>3.370833</td>\n",
       "      <td>568.416667</td>\n",
       "      <td>98</td>\n",
       "      <td>80</td>\n",
       "      <td>18</td>\n",
       "    </tr>\n",
       "  </tbody>\n",
       "</table>\n",
       "<p>11323 rows × 7 columns</p>\n",
       "</div>"
      ],
      "text/plain": [
       "                            B           T[K]        Np          Ur  tot  \\\n",
       "date                                                                      \n",
       "1992-01-01 00:00:00+00:00 NaN            NaN       NaN         NaN  186   \n",
       "1992-01-02 00:00:00+00:00 NaN            NaN       NaN         NaN  190   \n",
       "1992-01-03 00:00:00+00:00 NaN            NaN       NaN         NaN  234   \n",
       "1992-01-04 00:00:00+00:00 NaN            NaN       NaN         NaN  243   \n",
       "1992-01-05 00:00:00+00:00 NaN            NaN       NaN         NaN  242   \n",
       "...                        ..            ...       ...         ...  ...   \n",
       "2022-12-27 00:00:00+00:00 NaN  170672.500000  1.887500  516.250000   94   \n",
       "2022-12-28 00:00:00+00:00 NaN  170318.416667  1.825000  476.875000  103   \n",
       "2022-12-29 00:00:00+00:00 NaN   97242.500000  5.850000  429.666667  123   \n",
       "2022-12-30 00:00:00+00:00 NaN  201327.500000  6.987500  523.541667  124   \n",
       "2022-12-31 00:00:00+00:00 NaN  139659.875000  3.370833  568.416667   98   \n",
       "\n",
       "                           north  south  \n",
       "date                                     \n",
       "1992-01-01 00:00:00+00:00      0    186  \n",
       "1992-01-02 00:00:00+00:00     18    172  \n",
       "1992-01-03 00:00:00+00:00     26    208  \n",
       "1992-01-04 00:00:00+00:00     54    189  \n",
       "1992-01-05 00:00:00+00:00     58    184  \n",
       "...                          ...    ...  \n",
       "2022-12-27 00:00:00+00:00     77     17  \n",
       "2022-12-28 00:00:00+00:00     72     31  \n",
       "2022-12-29 00:00:00+00:00     80     43  \n",
       "2022-12-30 00:00:00+00:00     92     32  \n",
       "2022-12-31 00:00:00+00:00     80     18  \n",
       "\n",
       "[11323 rows x 7 columns]"
      ]
     },
     "execution_count": 1362,
     "metadata": {},
     "output_type": "execute_result"
    }
   ],
   "source": [
    "New"
   ]
  },
  {
   "cell_type": "code",
   "execution_count": 1363,
   "id": "53aaa130-37b1-4513-b909-7be61b834185",
   "metadata": {},
   "outputs": [
    {
     "name": "stdout",
     "output_type": "stream",
     "text": [
      "<class 'pandas.core.frame.DataFrame'>\n",
      "DatetimeIndex: 11323 entries, 1992-01-01 00:00:00+00:00 to 2022-12-31 00:00:00+00:00\n",
      "Freq: D\n",
      "Data columns (total 7 columns):\n",
      " #   Column  Non-Null Count  Dtype  \n",
      "---  ------  --------------  -----  \n",
      " 0   B       10152 non-null  float64\n",
      " 1   T[K]    9785 non-null   float64\n",
      " 2   Np      9675 non-null   float64\n",
      " 3   Ur      10188 non-null  float64\n",
      " 4   tot     11323 non-null  int64  \n",
      " 5   north   11323 non-null  int64  \n",
      " 6   south   11323 non-null  int64  \n",
      "dtypes: float64(4), int64(3)\n",
      "memory usage: 965.7 KB\n"
     ]
    }
   ],
   "source": [
    "New.info()"
   ]
  },
  {
   "cell_type": "code",
   "execution_count": 1364,
   "id": "5ed6f397-4cb8-42ff-83d8-bb02a261536e",
   "metadata": {},
   "outputs": [],
   "source": [
    "from statsmodels.tsa.stattools import adfuller"
   ]
  },
  {
   "cell_type": "code",
   "execution_count": 1365,
   "id": "d1d32c47-334c-4072-82e9-132b3d5798cb",
   "metadata": {},
   "outputs": [],
   "source": [
    "# Code written by Joseph Nelson.\n",
    "\n",
    "def interpret_dftest(dftest):\n",
    "    dfoutput = pd.Series(dftest[0:2], index=['Test Statistic','p-value'])\n",
    "    return dfoutput"
   ]
  },
  {
   "cell_type": "code",
   "execution_count": 1366,
   "id": "ba441ed2-a4d8-42d4-9f9b-01d8a94bd42a",
   "metadata": {},
   "outputs": [
    {
     "data": {
      "text/plain": [
       "Test Statistic   -5.291735\n",
       "p-value           0.000006\n",
       "dtype: float64"
      ]
     },
     "execution_count": 1366,
     "metadata": {},
     "output_type": "execute_result"
    }
   ],
   "source": [
    "interpret_dftest(adfuller(New['B'].dropna()))"
   ]
  },
  {
   "cell_type": "code",
   "execution_count": 1367,
   "id": "7d0d1d2c-95b3-43b2-ba43-611c684e9cee",
   "metadata": {},
   "outputs": [],
   "source": [
    "from statsmodels.graphics.tsaplots import plot_acf, plot_pacf"
   ]
  },
  {
   "cell_type": "code",
   "execution_count": 1368,
   "id": "797c846e-4fd2-4475-9920-75be92b5b966",
   "metadata": {},
   "outputs": [
    {
     "data": {
      "image/png": "[encoded data removed]",
      "text/plain": [
       "<Figure size 640x480 with 1 Axes>"
      ]
     },
     "metadata": {},
     "output_type": "display_data"
    }
   ],
   "source": [
    "# Generate plot.\n",
    "plot_acf(New['B'].dropna(),lags = 800);"
   ]
  },
  {
   "cell_type": "code",
   "execution_count": 1369,
   "id": "034182d9-4c80-4b51-883c-09e1d475d7c5",
   "metadata": {},
   "outputs": [
    {
     "data": {
      "image/png": "[encoded data removed]",
      "text/plain": [
       "<Figure size 640x480 with 1 Axes>"
      ]
     },
     "metadata": {},
     "output_type": "display_data"
    }
   ],
   "source": [
    "# Generate plot.\n",
    "plot_pacf(New['B'].dropna(),lags = 30);"
   ]
  },
  {
   "cell_type": "code",
   "execution_count": 1370,
   "id": "d7890251-3b41-4097-b102-c2d46b514374",
   "metadata": {},
   "outputs": [],
   "source": [
    "# Create train-test split.\n",
    "X_train, X_test, y_train, y_test = train_test_split(New.drop(columns=['B','T[K]','Np','Ur']),New['B'], train_size= 0.70,test_size=0.30, shuffle = False) "
   ]
  },
  {
   "cell_type": "code",
   "execution_count": 1371,
   "id": "dd28b6ed-5bf2-4059-af8a-74cabd464d0a",
   "metadata": {},
   "outputs": [],
   "source": [
    "#New.drop(columns=['B','T[K]','Np','Ur']"
   ]
  },
  {
   "cell_type": "code",
   "execution_count": 1372,
   "id": "47a4cd77-343d-4be4-bdb5-95ed76a25a01",
   "metadata": {},
   "outputs": [],
   "source": [
    "from statsmodels.tsa.statespace.sarimax import SARIMAX"
   ]
  },
  {
   "cell_type": "code",
   "execution_count": 1381,
   "id": "f23b7516-6979-4787-af17-e33d7f2ff74e",
   "metadata": {},
   "outputs": [],
   "source": [
    "model = ARIMA(endog=y_train.astype(float),order = (52, 0, 28))"
   ]
  },
  {
   "cell_type": "code",
   "execution_count": 1382,
   "id": "a60a50fb-2dda-48ea-8a2a-82b034c97f0b",
   "metadata": {},
   "outputs": [],
   "source": [
    "# Fit model.\n",
    "arima_2_0_1 = model.fit()"
   ]
  },
  {
   "cell_type": "code",
   "execution_count": 1383,
   "id": "c83e0a34-d731-4551-97da-28306bb13727",
   "metadata": {},
   "outputs": [
    {
     "data": {
      "text/plain": [
       "date\n",
       "1992-01-01 00:00:00+00:00         NaN\n",
       "1992-01-02 00:00:00+00:00         NaN\n",
       "1992-01-03 00:00:00+00:00         NaN\n",
       "1992-01-04 00:00:00+00:00         NaN\n",
       "1992-01-05 00:00:00+00:00         NaN\n",
       "                               ...   \n",
       "2013-09-08 00:00:00+00:00    3.779167\n",
       "2013-09-09 00:00:00+00:00    3.641667\n",
       "2013-09-10 00:00:00+00:00    4.412500\n",
       "2013-09-11 00:00:00+00:00    4.520833\n",
       "2013-09-12 00:00:00+00:00    5.691667\n",
       "Freq: D, Name: B, Length: 7926, dtype: float64"
      ]
     },
     "execution_count": 1383,
     "metadata": {},
     "output_type": "execute_result"
    }
   ],
   "source": [
    "y_train"
   ]
  },
  {
   "cell_type": "code",
   "execution_count": 1384,
   "id": "93938f8a-4d3f-4e9e-ab79-50436f9ac740",
   "metadata": {},
   "outputs": [
    {
     "data": {
      "text/plain": [
       "date\n",
       "2013-09-13 00:00:00+00:00    7.012500\n",
       "2013-09-14 00:00:00+00:00    2.833333\n",
       "2013-09-15 00:00:00+00:00    3.766667\n",
       "2013-09-16 00:00:00+00:00    4.179167\n",
       "2013-09-17 00:00:00+00:00    5.904167\n",
       "                               ...   \n",
       "2022-12-27 00:00:00+00:00         NaN\n",
       "2022-12-28 00:00:00+00:00         NaN\n",
       "2022-12-29 00:00:00+00:00         NaN\n",
       "2022-12-30 00:00:00+00:00         NaN\n",
       "2022-12-31 00:00:00+00:00         NaN\n",
       "Freq: D, Name: B, Length: 3397, dtype: float64"
      ]
     },
     "execution_count": 1384,
     "metadata": {},
     "output_type": "execute_result"
    }
   ],
   "source": [
    "y_test"
   ]
  },
  {
   "cell_type": "code",
   "execution_count": 1385,
   "id": "638ed753-6431-4bd2-8314-2839bdd1162c",
   "metadata": {},
   "outputs": [],
   "source": [
    "preds = arima_2_0_1.predict(start = y_test.index[0], end = y_test.index[-1])"
   ]
  },
  {
   "cell_type": "code",
   "execution_count": 1386,
   "id": "4ccfbcb2-badc-448c-89cf-d1f490e96367",
   "metadata": {},
   "outputs": [
    {
     "data": {
      "text/plain": [
       "Timestamp('2013-09-13 00:00:00+0000', tz='UTC')"
      ]
     },
     "execution_count": 1386,
     "metadata": {},
     "output_type": "execute_result"
    }
   ],
   "source": [
    "y_test.index[0]"
   ]
  },
  {
   "cell_type": "code",
   "execution_count": 1387,
   "id": "9a79110f-6051-407d-91ec-3c9561810b7f",
   "metadata": {},
   "outputs": [
    {
     "data": {
      "text/plain": [
       "2013-09-13 00:00:00+00:00    5.238868\n",
       "2013-09-14 00:00:00+00:00    4.639888\n",
       "2013-09-15 00:00:00+00:00    5.118255\n",
       "2013-09-16 00:00:00+00:00    5.980531\n",
       "2013-09-17 00:00:00+00:00    5.895056\n",
       "                               ...   \n",
       "2022-12-27 00:00:00+00:00    5.527995\n",
       "2022-12-28 00:00:00+00:00    5.528053\n",
       "2022-12-29 00:00:00+00:00    5.528110\n",
       "2022-12-30 00:00:00+00:00    5.528167\n",
       "2022-12-31 00:00:00+00:00    5.528225\n",
       "Freq: D, Name: predicted_mean, Length: 3397, dtype: float64"
      ]
     },
     "execution_count": 1387,
     "metadata": {},
     "output_type": "execute_result"
    }
   ],
   "source": [
    "preds"
   ]
  },
  {
   "cell_type": "markdown",
   "id": "4ffbe938-c3f3-4223-be3c-3e594011d79d",
   "metadata": {},
   "source": [
    "## Plot the time series plot"
   ]
  },
  {
   "cell_type": "code",
   "execution_count": 1389,
   "id": "6c0ad493-5f10-44ab-aa2e-19c291c3cdd7",
   "metadata": {},
   "outputs": [
    {
     "data": {
      "image/png": "[encoded data removed]",
      "text/plain": [
       "<Figure size 1000x500 with 1 Axes>"
      ]
     },
     "metadata": {},
     "output_type": "display_data"
    }
   ],
   "source": [
    "fig, ax = plt.subplots(figsize=(10, 5))  \n",
    "\n",
    "\n",
    "y_train.plot(ax=ax)\n",
    "#y_test.plot(ax=ax)\n",
    "preds.plot(ax=ax)\n",
    "\n",
    "ax.set_xlabel(\"Time\")\n",
    "ax.set_ylabel(\"Magnetic field [B]\")\n",
    "ax.set_title(\"Magnetic Field\")\n",
    "ax.legend(['B_{1au}','Arima_model']) \n",
    "\n",
    "plt.show()"
   ]
  },
  {
   "cell_type": "code",
   "execution_count": 1402,
   "id": "25fb5e00-d8e3-4f51-b67c-b453d8d68f7e",
   "metadata": {},
   "outputs": [
    {
     "data": {
      "text/plain": [
       "2022-11-02 00:00:00+00:00    5.524822\n",
       "2022-11-03 00:00:00+00:00    5.524880\n",
       "2022-11-04 00:00:00+00:00    5.524938\n",
       "2022-11-05 00:00:00+00:00    5.524996\n",
       "2022-11-06 00:00:00+00:00    5.525054\n",
       "2022-11-07 00:00:00+00:00    5.525112\n",
       "2022-11-08 00:00:00+00:00    5.525170\n",
       "2022-11-09 00:00:00+00:00    5.525227\n",
       "2022-11-10 00:00:00+00:00    5.525285\n",
       "2022-11-11 00:00:00+00:00    5.525343\n",
       "2022-11-12 00:00:00+00:00    5.525401\n",
       "2022-11-13 00:00:00+00:00    5.525459\n",
       "2022-11-14 00:00:00+00:00    5.525517\n",
       "2022-11-15 00:00:00+00:00    5.525575\n",
       "2022-11-16 00:00:00+00:00    5.525633\n",
       "2022-11-17 00:00:00+00:00    5.525690\n",
       "2022-11-18 00:00:00+00:00    5.525748\n",
       "2022-11-19 00:00:00+00:00    5.525806\n",
       "2022-11-20 00:00:00+00:00    5.525864\n",
       "2022-11-21 00:00:00+00:00    5.525922\n",
       "2022-11-22 00:00:00+00:00    5.525980\n",
       "2022-11-23 00:00:00+00:00    5.526037\n",
       "2022-11-24 00:00:00+00:00    5.526095\n",
       "2022-11-25 00:00:00+00:00    5.526153\n",
       "2022-11-26 00:00:00+00:00    5.526211\n",
       "2022-11-27 00:00:00+00:00    5.526268\n",
       "2022-11-28 00:00:00+00:00    5.526326\n",
       "2022-11-29 00:00:00+00:00    5.526384\n",
       "2022-11-30 00:00:00+00:00    5.526441\n",
       "2022-12-01 00:00:00+00:00    5.526499\n",
       "2022-12-02 00:00:00+00:00    5.526557\n",
       "2022-12-03 00:00:00+00:00    5.526614\n",
       "2022-12-04 00:00:00+00:00    5.526672\n",
       "2022-12-05 00:00:00+00:00    5.526730\n",
       "2022-12-06 00:00:00+00:00    5.526787\n",
       "2022-12-07 00:00:00+00:00    5.526845\n",
       "2022-12-08 00:00:00+00:00    5.526903\n",
       "2022-12-09 00:00:00+00:00    5.526960\n",
       "2022-12-10 00:00:00+00:00    5.527018\n",
       "2022-12-11 00:00:00+00:00    5.527075\n",
       "2022-12-12 00:00:00+00:00    5.527133\n",
       "2022-12-13 00:00:00+00:00    5.527191\n",
       "2022-12-14 00:00:00+00:00    5.527248\n",
       "2022-12-15 00:00:00+00:00    5.527306\n",
       "2022-12-16 00:00:00+00:00    5.527363\n",
       "2022-12-17 00:00:00+00:00    5.527421\n",
       "2022-12-18 00:00:00+00:00    5.527478\n",
       "2022-12-19 00:00:00+00:00    5.527536\n",
       "2022-12-20 00:00:00+00:00    5.527593\n",
       "2022-12-21 00:00:00+00:00    5.527651\n",
       "2022-12-22 00:00:00+00:00    5.527708\n",
       "2022-12-23 00:00:00+00:00    5.527765\n",
       "2022-12-24 00:00:00+00:00    5.527823\n",
       "2022-12-25 00:00:00+00:00    5.527880\n",
       "2022-12-26 00:00:00+00:00    5.527938\n",
       "2022-12-27 00:00:00+00:00    5.527995\n",
       "2022-12-28 00:00:00+00:00    5.528053\n",
       "2022-12-29 00:00:00+00:00    5.528110\n",
       "2022-12-30 00:00:00+00:00    5.528167\n",
       "Freq: D, Name: predicted_mean, dtype: float64"
      ]
     },
     "execution_count": 1402,
     "metadata": {},
     "output_type": "execute_result"
    }
   ],
   "source": [
    "preds[-60:-1]"
   ]
  },
  {
   "cell_type": "code",
   "execution_count": null,
   "id": "355721ff-85eb-42a5-a99a-122f65a6007a",
   "metadata": {},
   "outputs": [],
   "source": []
  },
  {
   "cell_type": "code",
   "execution_count": null,
   "id": "57a7c1f1-33c9-4fed-be99-b09d3aa2d404",
   "metadata": {},
   "outputs": [],
   "source": []
  },
  {
   "cell_type": "code",
   "execution_count": null,
   "id": "be27ff8d-e353-4fa6-a2e6-1029af2ddb63",
   "metadata": {},
   "outputs": [],
   "source": []
  },
  {
   "cell_type": "code",
   "execution_count": null,
   "id": "24ec8f2d-b292-4ef4-8b6a-eafbb941703c",
   "metadata": {},
   "outputs": [],
   "source": []
  },
  {
   "cell_type": "code",
   "execution_count": null,
   "id": "247f546d-3820-43cb-8a07-107602fb7c0e",
   "metadata": {},
   "outputs": [],
   "source": []
  },
  {
   "cell_type": "code",
   "execution_count": null,
   "id": "42d7e5fa-902c-4dc7-8bf7-a840f548a839",
   "metadata": {},
   "outputs": [],
   "source": []
  },
  {
   "cell_type": "code",
   "execution_count": null,
   "id": "7176caec-2c28-426f-bc48-a5e49615d9b1",
   "metadata": {},
   "outputs": [],
   "source": []
  },
  {
   "cell_type": "code",
   "execution_count": null,
   "id": "667c7337-b838-4f66-ad4b-c287627cb9ad",
   "metadata": {},
   "outputs": [],
   "source": []
  },
  {
   "cell_type": "code",
   "execution_count": 1332,
   "id": "a5f76437-73a0-4330-9bd1-cef47a49b40b",
   "metadata": {},
   "outputs": [],
   "source": [
    "from sklearn.linear_model import LinearRegression,LassoCV ,RidgeCV"
   ]
  },
  {
   "cell_type": "code",
   "execution_count": 1346,
   "id": "d87b9dd5-f25f-4ee7-86c9-c2a5b560758b",
   "metadata": {},
   "outputs": [
    {
     "data": {
      "text/html": [
       "<style>#sk-container-id-1 {color: black;background-color: white;}#sk-container-id-1 pre{padding: 0;}#sk-container-id-1 div.sk-toggleable {background-color: white;}#sk-container-id-1 label.sk-toggleable__label {cursor: pointer;display: block;width: 100%;margin-bottom: 0;padding: 0.3em;box-sizing: border-box;text-align: center;}#sk-container-id-1 label.sk-toggleable__label-arrow:before {content: \"▸\";float: left;margin-right: 0.25em;color: #696969;}#sk-container-id-1 label.sk-toggleable__label-arrow:hover:before {color: black;}#sk-container-id-1 div.sk-estimator:hover label.sk-toggleable__label-arrow:before {color: black;}#sk-container-id-1 div.sk-toggleable__content {max-height: 0;max-width: 0;overflow: hidden;text-align: left;background-color: #f0f8ff;}#sk-container-id-1 div.sk-toggleable__content pre {margin: 0.2em;color: black;border-radius: 0.25em;background-color: #f0f8ff;}#sk-container-id-1 input.sk-toggleable__control:checked~div.sk-toggleable__content {max-height: 200px;max-width: 100%;overflow: auto;}#sk-container-id-1 input.sk-toggleable__control:checked~label.sk-toggleable__label-arrow:before {content: \"▾\";}#sk-container-id-1 div.sk-estimator input.sk-toggleable__control:checked~label.sk-toggleable__label {background-color: #d4ebff;}#sk-container-id-1 div.sk-label input.sk-toggleable__control:checked~label.sk-toggleable__label {background-color: #d4ebff;}#sk-container-id-1 input.sk-hidden--visually {border: 0;clip: rect(1px 1px 1px 1px);clip: rect(1px, 1px, 1px, 1px);height: 1px;margin: -1px;overflow: hidden;padding: 0;position: absolute;width: 1px;}#sk-container-id-1 div.sk-estimator {font-family: monospace;background-color: #f0f8ff;border: 1px dotted black;border-radius: 0.25em;box-sizing: border-box;margin-bottom: 0.5em;}#sk-container-id-1 div.sk-estimator:hover {background-color: #d4ebff;}#sk-container-id-1 div.sk-parallel-item::after {content: \"\";width: 100%;border-bottom: 1px solid gray;flex-grow: 1;}#sk-container-id-1 div.sk-label:hover label.sk-toggleable__label {background-color: #d4ebff;}#sk-container-id-1 div.sk-serial::before {content: \"\";position: absolute;border-left: 1px solid gray;box-sizing: border-box;top: 0;bottom: 0;left: 50%;z-index: 0;}#sk-container-id-1 div.sk-serial {display: flex;flex-direction: column;align-items: center;background-color: white;padding-right: 0.2em;padding-left: 0.2em;position: relative;}#sk-container-id-1 div.sk-item {position: relative;z-index: 1;}#sk-container-id-1 div.sk-parallel {display: flex;align-items: stretch;justify-content: center;background-color: white;position: relative;}#sk-container-id-1 div.sk-item::before, #sk-container-id-1 div.sk-parallel-item::before {content: \"\";position: absolute;border-left: 1px solid gray;box-sizing: border-box;top: 0;bottom: 0;left: 50%;z-index: -1;}#sk-container-id-1 div.sk-parallel-item {display: flex;flex-direction: column;z-index: 1;position: relative;background-color: white;}#sk-container-id-1 div.sk-parallel-item:first-child::after {align-self: flex-end;width: 50%;}#sk-container-id-1 div.sk-parallel-item:last-child::after {align-self: flex-start;width: 50%;}#sk-container-id-1 div.sk-parallel-item:only-child::after {width: 0;}#sk-container-id-1 div.sk-dashed-wrapped {border: 1px dashed gray;margin: 0 0.4em 0.5em 0.4em;box-sizing: border-box;padding-bottom: 0.4em;background-color: white;}#sk-container-id-1 div.sk-label label {font-family: monospace;font-weight: bold;display: inline-block;line-height: 1.2em;}#sk-container-id-1 div.sk-label-container {text-align: center;}#sk-container-id-1 div.sk-container {/* jupyter's `normalize.less` sets `[hidden] { display: none; }` but bootstrap.min.css set `[hidden] { display: none !important; }` so we also need the `!important` here to be able to override the default hidden behavior on the sphinx rendered scikit-learn.org. See: https://github.com/scikit-learn/scikit-learn/issues/21755 */display: inline-block !important;position: relative;}#sk-container-id-1 div.sk-text-repr-fallback {display: none;}</style><div id=\"sk-container-id-1\" class=\"sk-top-container\"><div class=\"sk-text-repr-fallback\"><pre>RidgeCV()</pre><b>In a Jupyter environment, please rerun this cell to show the HTML representation or trust the notebook. <br />On GitHub, the HTML representation is unable to render, please try loading this page with nbviewer.org.</b></div><div class=\"sk-container\" hidden><div class=\"sk-item\"><div class=\"sk-estimator sk-toggleable\"><input class=\"sk-toggleable__control sk-hidden--visually\" id=\"sk-estimator-id-1\" type=\"checkbox\" checked><label for=\"sk-estimator-id-1\" class=\"sk-toggleable__label sk-toggleable__label-arrow\">RidgeCV</label><div class=\"sk-toggleable__content\"><pre>RidgeCV()</pre></div></div></div></div></div>"
      ],
      "text/plain": [
       "RidgeCV()"
      ]
     },
     "execution_count": 1346,
     "metadata": {},
     "output_type": "execute_result"
    }
   ],
   "source": [
    "# Instantiate and fit the model\n",
    "lr = RidgeCV()\n",
    "lr.fit(X_train, y_train)"
   ]
  },
  {
   "cell_type": "code",
   "execution_count": 1347,
   "id": "05553b06-e4fa-4219-b03a-2a4f0fc5b3ce",
   "metadata": {},
   "outputs": [
    {
     "data": {
      "text/plain": [
       "(0.0997107275766278, 0.0837685381839024)"
      ]
     },
     "execution_count": 1347,
     "metadata": {},
     "output_type": "execute_result"
    }
   ],
   "source": [
    "# Evaluate R2 for train and test\n",
    "lr.score(X_train, y_train), lr.score(X_test, y_test)"
   ]
  },
  {
   "cell_type": "code",
   "execution_count": 1348,
   "id": "836e37e1-f948-4662-8dcd-907db20d7dd7",
   "metadata": {},
   "outputs": [],
   "source": [
    "# Generate predicted test values.\n",
    "pred = lr.predict(X_test)"
   ]
  },
  {
   "cell_type": "code",
   "execution_count": 1349,
   "id": "a7c0c844-d360-4037-9413-98570f50f637",
   "metadata": {},
   "outputs": [
    {
     "data": {
      "text/plain": [
       "array([6.70037483, 6.97183665, 7.20682484, ..., 5.58051227, 5.23908136,\n",
       "       5.23248623])"
      ]
     },
     "execution_count": 1349,
     "metadata": {},
     "output_type": "execute_result"
    }
   ],
   "source": [
    "pred"
   ]
  },
  {
   "cell_type": "code",
   "execution_count": 1350,
   "id": "3ca5774d-7c32-40ba-8312-7210c1e4a4f8",
   "metadata": {},
   "outputs": [
    {
     "data": {
      "image/png": "[encoded data removed]",
      "text/plain": [
       "<Figure size 1000x600 with 1 Axes>"
      ]
     },
     "metadata": {},
     "output_type": "display_data"
    }
   ],
   "source": [
    "# Let's plot our predictions! \n",
    "plt.figure(figsize=(10,6))\n",
    "\n",
    "plt.plot(y_train, label ='y_train')\n",
    "plt.plot(y_test, label = 'y_test')\n",
    "plt.plot(np.array(y_test.index), pred, label = 'preds')\n",
    "plt.legend();"
   ]
  },
  {
   "cell_type": "code",
   "execution_count": null,
   "id": "18ee5a01-679a-41f1-87c3-f4fa1f46ef4b",
   "metadata": {},
   "outputs": [],
   "source": []
  }
 ],
 "metadata": {
  "kernelspec": {
   "display_name": "Python 3 (ipykernel)",
   "language": "python",
   "name": "python3"
  },
  "language_info": {
   "codemirror_mode": {
    "name": "ipython",
    "version": 3
   },
   "file_extension": ".py",
   "mimetype": "text/x-python",
   "name": "python",
   "nbconvert_exporter": "python",
   "pygments_lexer": "ipython3",
   "version": "3.9.17"
  }
 },
 "nbformat": 4,
 "nbformat_minor": 5
}
