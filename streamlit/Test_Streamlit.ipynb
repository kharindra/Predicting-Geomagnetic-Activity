{
 "cells": [
  {
   "cell_type": "markdown",
   "id": "812b1b8b-203a-4da3-b989-5d201f57a629",
   "metadata": {},
   "source": [
    "### The notebook to test the model pickle file and the predict_G_storm function"
   ]
  },
  {
   "cell_type": "code",
   "execution_count": 11,
   "id": "0c0a04c2-4703-417a-b94a-cfe889fb2ace",
   "metadata": {},
   "outputs": [],
   "source": [
    "## load the libraries\n",
    "import streamlit\n",
    "import pickle\n",
    "import pandas as pd\n",
    "from G_storm import predict_G_storm\n",
    "from sklearn.preprocessing import OneHotEncoder\n",
    "from sklearn.compose import ColumnTransformer"
   ]
  },
  {
   "cell_type": "code",
   "execution_count": 5,
   "id": "60371594-dc02-4b43-a57e-7c9079923426",
   "metadata": {},
   "outputs": [],
   "source": [
    "# Load the function from the pickle file\n",
    "with open('../pickles/predict_G_storm.pkl', 'rb') as file:\n",
    "    func = pickle.load(file)"
   ]
  },
  {
   "cell_type": "markdown",
   "id": "8d80f6c4-f4af-4665-b6f0-0060413d7a53",
   "metadata": {},
   "source": [
    "##### omni = 'solar wind data csv file' sunspot = 'sunspot number csv file' all this csv files should be located in '../Data_collection/Data/'"
   ]
  },
  {
   "cell_type": "code",
   "execution_count": 6,
   "id": "3eb450f5-aecb-4f6b-9874-09e725393c07",
   "metadata": {},
   "outputs": [
    {
     "data": {
      "image/png": "[encoded data removed]",
      "text/plain": [
       "<Figure size 640x480 with 1 Axes>"
      ]
     },
     "metadata": {},
     "output_type": "display_data"
    }
   ],
   "source": [
    "func(omni = 'test.csv1',sunspot= 'test_sc.csv', phase = 'rising');"
   ]
  },
  {
   "cell_type": "markdown",
   "id": "1178959d-02f3-413d-b065-3d85ecba0d18",
   "metadata": {},
   "source": [
    "##### Testing the code to predict before building the web app"
   ]
  },
  {
   "cell_type": "code",
   "execution_count": 13,
   "id": "2d0ee612-7816-4184-8fe0-9ce80ca1bc67",
   "metadata": {
    "scrolled": true
   },
   "outputs": [
    {
     "name": "stdin",
     "output_type": "stream",
     "text": [
      "Enter value for 'Wind_Category' in row 1:  fast\n",
      "Enter value for 'Np_Category' in row 1:  low\n",
      "Enter value for 'B_Category' in row 1:  low\n",
      "Enter value for 'T_Category' in row 1:  high\n",
      "Enter value for 'phase' in row 1:  rising\n",
      "Enter value for 'SN' in row 1:  230\n",
      "Enter value for 'F10.7obs' in row 1:  249\n"
     ]
    }
   ],
   "source": [
    "# Assuming the number of rows is given by the user\n",
    "num_rows = 1\n",
    "\n",
    "# Fixed column names\n",
    "columns = ['Wind_Category', 'Np_Category', 'B_Category', 'T_Category', 'phase','SN', 'F10.7obs']\n",
    "\n",
    "# Create an empty dictionary to store user input data\n",
    "data = {}\n",
    "\n",
    "# Collect data for each column from the user\n",
    "for column_name in columns:\n",
    "    column_data = []\n",
    "    for j in range(num_rows):\n",
    "        value = input(f\"Enter value for '{column_name}' in row {j+1}: \")\n",
    "        column_data.append(value)\n",
    "    data[column_name] = column_data\n",
    "\n",
    "# Create the DataFrame using the collected data\n",
    "df = pd.DataFrame(data)"
   ]
  },
  {
   "cell_type": "code",
   "execution_count": 14,
   "id": "1e82be4e-6653-47c0-bce9-9c3a011578a4",
   "metadata": {},
   "outputs": [
    {
     "data": {
      "text/html": [
       "<div>\n",
       "<style scoped>\n",
       "    .dataframe tbody tr th:only-of-type {\n",
       "        vertical-align: middle;\n",
       "    }\n",
       "\n",
       "    .dataframe tbody tr th {\n",
       "        vertical-align: top;\n",
       "    }\n",
       "\n",
       "    .dataframe thead th {\n",
       "        text-align: right;\n",
       "    }\n",
       "</style>\n",
       "<table border=\"1\" class=\"dataframe\">\n",
       "  <thead>\n",
       "    <tr style=\"text-align: right;\">\n",
       "      <th></th>\n",
       "      <th>Wind_Category</th>\n",
       "      <th>Np_Category</th>\n",
       "      <th>B_Category</th>\n",
       "      <th>T_Category</th>\n",
       "      <th>phase</th>\n",
       "      <th>SN</th>\n",
       "      <th>F10.7obs</th>\n",
       "    </tr>\n",
       "  </thead>\n",
       "  <tbody>\n",
       "    <tr>\n",
       "      <th>0</th>\n",
       "      <td>fast</td>\n",
       "      <td>low</td>\n",
       "      <td>low</td>\n",
       "      <td>high</td>\n",
       "      <td>rising</td>\n",
       "      <td>230</td>\n",
       "      <td>249</td>\n",
       "    </tr>\n",
       "  </tbody>\n",
       "</table>\n",
       "</div>"
      ],
      "text/plain": [
       "  Wind_Category Np_Category B_Category T_Category   phase   SN F10.7obs\n",
       "0          fast         low        low       high  rising  230      249"
      ]
     },
     "execution_count": 14,
     "metadata": {},
     "output_type": "execute_result"
    }
   ],
   "source": [
    "df"
   ]
  },
  {
   "cell_type": "code",
   "execution_count": 15,
   "id": "a9883e47-9fba-4e45-a7dd-86814d68566f",
   "metadata": {},
   "outputs": [],
   "source": [
    "### Load the saved model\n",
    "loaded_model = pickle.load(open('../pickles/model.pkl', 'rb'))"
   ]
  },
  {
   "cell_type": "code",
   "execution_count": 16,
   "id": "98e04686-817d-454d-9360-111629cb1d11",
   "metadata": {},
   "outputs": [],
   "source": [
    "# Columns to be One-Hot Encoded\n",
    "ohe_cols = ['Wind_Category','Np_Category','B_Category','T_Category','phase']\n",
    "\n",
    "# Columns to be passed without transformation\n",
    "passthrough = ['SN', 'F10.7obs']\n",
    "\n",
    "# Initializing the ColumnTransformer\n",
    "preprocessor = ColumnTransformer(\n",
    "    transformers=[\n",
    "        ('ohe', OneHotEncoder(), ohe_cols),\n",
    "        ('passthrough', 'passthrough', passthrough)\n",
    "    ],\n",
    "    remainder='drop'  # Drops the columns that are not specified\n",
    ")\n",
    "\n",
    "\n",
    "# Fit and transform the data\n",
    "transformed_data = preprocessor.fit_transform(df)\n",
    "\n",
    "columns = list(preprocessor.named_transformers_['ohe'].get_feature_names_out()) + passthrough\n",
    "\n",
    "# Convert the transformed data back to a DataFrame\n",
    "test = pd.DataFrame(transformed_data, columns= columns)\n",
    "\n",
    "test.columns = test.columns.str.lower()\n",
    "\n",
    "train_columns = ['wind_category_extreme',\n",
    "                     'wind_category_fast',\n",
    "                     'wind_category_slow',\n",
    "                     'np_category_extreme',\n",
    "                     'np_category_high',\n",
    "                     'np_category_low',\n",
    "                     'b_category_extreme',\n",
    "                     'b_category_high',\n",
    "                     'b_category_low',\n",
    "                     't_category_extreme',\n",
    "                     't_category_high',\n",
    "                     't_category_low',\n",
    "                     'phase_declining',\n",
    "                     'phase_rising',\n",
    "                     'phase_solar_max',\n",
    "                     'phase_solar_min',\n",
    "                     'sn',\n",
    "                     'f10.7obs']\n",
    "\n",
    "\n",
    "columns_test = [col for col in train_columns if col not in test.columns] ## the columns that should be added to the test data\n",
    "\n",
    "# Create a DataFrame with the new columns filled with zeros equaling the length of the dataframe that should be added to the test dataframe\n",
    "columns_test_df = pd.DataFrame({col: [0] * len(test) for col in columns_test})\n",
    "\n",
    "Test = pd.concat([test, columns_test_df], axis=1)"
   ]
  },
  {
   "cell_type": "code",
   "execution_count": 20,
   "id": "bfdaf373-ce8d-429c-8713-ce673e266074",
   "metadata": {
    "scrolled": true
   },
   "outputs": [
    {
     "data": {
      "text/plain": [
       "['G0']"
      ]
     },
     "execution_count": 20,
     "metadata": {},
     "output_type": "execute_result"
    }
   ],
   "source": [
    "list(loaded_model.predict(Test[train_columns])) ## output is the type of the storm"
   ]
  },
  {
   "cell_type": "markdown",
   "id": "1a418fe5-98f1-4a3a-b863-9f3fc00eaa70",
   "metadata": {},
   "source": [
    "### The above code has been used to develop the web app"
   ]
  }
 ],
 "metadata": {
  "kernelspec": {
   "display_name": "Python 3 (ipykernel)",
   "language": "python",
   "name": "python3"
  },
  "language_info": {
   "codemirror_mode": {
    "name": "ipython",
    "version": 3
   },
   "file_extension": ".py",
   "mimetype": "text/x-python",
   "name": "python",
   "nbconvert_exporter": "python",
   "pygments_lexer": "ipython3",
   "version": "3.9.17"
  }
 },
 "nbformat": 4,
 "nbformat_minor": 5
}
