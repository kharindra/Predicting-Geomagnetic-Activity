{
 "cells": [
  {
   "cell_type": "code",
   "execution_count": 1,
   "id": "0c0a04c2-4703-417a-b94a-cfe889fb2ace",
   "metadata": {},
   "outputs": [],
   "source": [
    "import streamlit\n",
    "import pickle\n",
    "from G_storm import predict_G_storm"
   ]
  },
  {
   "cell_type": "code",
   "execution_count": 2,
   "id": "60371594-dc02-4b43-a57e-7c9079923426",
   "metadata": {},
   "outputs": [],
   "source": [
    "# Load the function from the pickle file\n",
    "with open('predict_G_storm.pkl', 'rb') as file:\n",
    "    func = pickle.load(file)"
   ]
  },
  {
   "cell_type": "code",
   "execution_count": 3,
   "id": "3eb450f5-aecb-4f6b-9874-09e725393c07",
   "metadata": {},
   "outputs": [
    {
     "data": {
      "image/png": "[encoded data removed]",
      "text/plain": [
       "<Figure size 640x480 with 1 Axes>"
      ]
     },
     "metadata": {},
     "output_type": "display_data"
    }
   ],
   "source": [
    "func(omni = 'test.csv1',sunspot= 'test_sc.csv', phase = 'rising');"
   ]
  },
  {
   "cell_type": "code",
   "execution_count": 6,
   "id": "2d0ee612-7816-4184-8fe0-9ce80ca1bc67",
   "metadata": {},
   "outputs": [
    {
     "name": "stdin",
     "output_type": "stream",
     "text": [
      "Enter value for 'Wind_category' in row 1:  fast\n",
      "Enter value for 'Np_Category' in row 1:  low\n",
      "Enter value for 'B_Category' in row 1:  low\n",
      "Enter value for 'T_Category' in row 1:  high\n",
      "Enter value for 'phase' in row 1:  rising\n",
      "Enter value for 'SN' in row 1:  250\n",
      "Enter value for 'F10.7obs' in row 1:  273\n"
     ]
    },
    {
     "data": {
      "text/html": [
       "<div>\n",
       "<style scoped>\n",
       "    .dataframe tbody tr th:only-of-type {\n",
       "        vertical-align: middle;\n",
       "    }\n",
       "\n",
       "    .dataframe tbody tr th {\n",
       "        vertical-align: top;\n",
       "    }\n",
       "\n",
       "    .dataframe thead th {\n",
       "        text-align: right;\n",
       "    }\n",
       "</style>\n",
       "<table border=\"1\" class=\"dataframe\">\n",
       "  <thead>\n",
       "    <tr style=\"text-align: right;\">\n",
       "      <th></th>\n",
       "      <th>Wind_category</th>\n",
       "      <th>Np_Category</th>\n",
       "      <th>B_Category</th>\n",
       "      <th>T_Category</th>\n",
       "      <th>phase</th>\n",
       "      <th>SN</th>\n",
       "      <th>F10.7obs</th>\n",
       "    </tr>\n",
       "  </thead>\n",
       "  <tbody>\n",
       "    <tr>\n",
       "      <th>0</th>\n",
       "      <td>fast</td>\n",
       "      <td>low</td>\n",
       "      <td>low</td>\n",
       "      <td>high</td>\n",
       "      <td>rising</td>\n",
       "      <td>250</td>\n",
       "      <td>273</td>\n",
       "    </tr>\n",
       "  </tbody>\n",
       "</table>\n",
       "</div>"
      ],
      "text/plain": [
       "  Wind_category Np_Category B_Category T_Category   phase   SN F10.7obs\n",
       "0          fast         low        low       high  rising  250      273"
      ]
     },
     "execution_count": 6,
     "metadata": {},
     "output_type": "execute_result"
    }
   ],
   "source": [
    "import pandas as pd\n",
    "\n",
    "# Assuming the number of rows is given by the user\n",
    "num_rows = 1\n",
    "\n",
    "# Fixed column names\n",
    "columns = ['Wind_category', 'Np_Category', 'B_Category', 'T_Category', 'phase','SN', 'F10.7obs']\n",
    "\n",
    "# Create an empty dictionary to store user input data\n",
    "data = {}\n",
    "\n",
    "# Collect data for each column from the user\n",
    "for column_name in columns:\n",
    "    column_data = []\n",
    "    for j in range(num_rows):\n",
    "        value = input(f\"Enter value for '{column_name}' in row {j+1}: \")\n",
    "        column_data.append(value)\n",
    "    data[column_name] = column_data\n",
    "\n",
    "# Create the DataFrame using the collected data\n",
    "df = pd.DataFrame(data)\n",
    "\n",
    "df"
   ]
  }
 ],
 "metadata": {
  "kernelspec": {
   "display_name": "Python 3 (ipykernel)",
   "language": "python",
   "name": "python3"
  },
  "language_info": {
   "codemirror_mode": {
    "name": "ipython",
    "version": 3
   },
   "file_extension": ".py",
   "mimetype": "text/x-python",
   "name": "python",
   "nbconvert_exporter": "python",
   "pygments_lexer": "ipython3",
   "version": "3.9.17"
  }
 },
 "nbformat": 4,
 "nbformat_minor": 5
}
